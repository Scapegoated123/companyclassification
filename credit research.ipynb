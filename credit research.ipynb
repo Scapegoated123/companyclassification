{
 "cells": [
  {
   "cell_type": "code",
   "execution_count": null,
   "id": "77b17775-6dc1-408e-8154-f2172759a797",
   "metadata": {},
   "outputs": [],
   "source": [
    "import yfinance as yf\n",
    "import pandas as pd\n",
    "\n",
    "\n",
    "# Define the ticker symbol\n",
    "ticker_symbol = \"AAPL\"\n",
    "\n",
    "# Get the Ticker object\n",
    "company = yf.Ticker(ticker_symbol)\n",
    "\n",
    "\n",
    "# Get various types of fundamental data\n",
    "info = company.info\n",
    "print(\"Company Info:\")\n",
    "for key, value in info.items():\n",
    "    #print(f\"{key}: {value}\")\n",
    "    print(None)\n",
    "    break\n"
   ]
  },
  {
   "cell_type": "code",
   "execution_count": null,
   "id": "0261a324-04f2-494f-9cab-12711dfd352b",
   "metadata": {},
   "outputs": [],
   "source": [
    "\n",
    "import json\n",
    "\n",
    "def load_json_file(file_path):\n",
    "    try:\n",
    "        with open(file_path, 'r') as file:\n",
    "            data = json.load(file)\n",
    "            return data\n",
    "    except FileNotFoundError:\n",
    "        print(f\"File {file_path} not found.\")\n",
    "        return []\n",
    "    except json.JSONDecodeError as e:\n",
    "        print(f\"Error parsing JSON: {e}\")\n",
    "        return []\n",
    "\n",
    "def extract_tickers_and_details(companies_data):\n",
    "    tickers = []\n",
    "    companies_details = {}\n",
    "    \n",
    "    for k,company in companies_data.items():\n",
    "        ticker = company['ticker']\n",
    "        tickers.append(ticker)\n",
    "        companies_details[ticker] = company\n",
    "    \n",
    "    return tickers, companies_details\n",
    "\n",
    "def main():\n",
    "    file_path = 'company.json'\n",
    "    companies_data = load_json_file(file_path)\n",
    "    \n",
    "    if companies_data:\n",
    "        tickers, companies_details = extract_tickers_and_details(companies_data)\n",
    "        #print(companies_details)\n",
    "        df = pd.DataFrame()\n",
    "        df[\"Ticker\"] = tickers\n",
    "        df[\"Company\"] = [c[\"title\"] for k,c in companies_details.items()]\n",
    "        print(df)\n",
    "        df.to_csv(\"company_tickers.csv\")\n",
    "        #print(\"Company Tickers:\")\n",
    "        #print(len(tickers),tickers)\n",
    "\n",
    "if __name__ == \"__main__\":\n",
    "    main()"
   ]
  },
  {
   "cell_type": "code",
   "execution_count": null,
   "id": "eb3e7a7a-a421-49cb-a612-402bc7136094",
   "metadata": {},
   "outputs": [],
   "source": [
    "\n",
    "# Get historical market data\n",
    "historical_data = company.history(period=\"5y\")\n",
    "print(\"\\nHistorical Market Data:\")\n",
    "print(historical_data.head())\n",
    "#historical_data.to_csv(\"price_history.csv\")\n",
    "historical_data\n"
   ]
  },
  {
   "cell_type": "code",
   "execution_count": null,
   "id": "3cb80237-c762-4464-aba1-2accccf010a0",
   "metadata": {},
   "outputs": [],
   "source": []
  },
  {
   "cell_type": "code",
   "execution_count": null,
   "id": "7aa1168e-f694-4982-97d5-05cee1235160",
   "metadata": {},
   "outputs": [],
   "source": [
    "# Get financial statements\n",
    "financials = company.financials\n",
    "print(\"\\nFinancial Statements:\")\n",
    "print(financials)\n",
    "\n",
    "financials.to_csv(\"financials.csv\")\n"
   ]
  },
  {
   "cell_type": "code",
   "execution_count": null,
   "id": "971eae4e-5863-451e-a521-33160b990017",
   "metadata": {},
   "outputs": [],
   "source": [
    "balance_sheet = company.balance_sheet\n",
    "print(\"\\nBalance Sheet:\")\n",
    "print(pd.DataFrame(balance_sheet))\n",
    "balance_sheet.to_csv(\"balancesheet.csv\")\n"
   ]
  },
  {
   "cell_type": "code",
   "execution_count": null,
   "id": "98c195b6-4690-4be9-ae78-937ed5234c81",
   "metadata": {},
   "outputs": [],
   "source": [
    "cashflow = company.cashflow\n",
    "print(\"\\nCash Flow:\")\n",
    "print(cashflow)\n",
    "\n"
   ]
  },
  {
   "cell_type": "code",
   "execution_count": null,
   "id": "e37c6931-5cb0-4e47-b299-5422642049a6",
   "metadata": {},
   "outputs": [],
   "source": [
    "# Get key metrics\n",
    "key_metrics = company.major_holders\n",
    "print(\"\\nMajor Holders:\")\n",
    "print(key_metrics)\n",
    "\n"
   ]
  },
  {
   "cell_type": "code",
   "execution_count": null,
   "id": "df3d721a-a519-48c3-9c90-3bc085e860be",
   "metadata": {},
   "outputs": [],
   "source": [
    "key_metrics = company.institutional_holders\n",
    "print(\"\\nInstitutional Holders:\")\n",
    "print(key_metrics)"
   ]
  },
  {
   "cell_type": "code",
   "execution_count": null,
   "id": "b97d7d1c-046c-47c7-ae8b-b767c0054b64",
   "metadata": {},
   "outputs": [],
   "source": []
  },
  {
   "cell_type": "code",
   "execution_count": 1,
   "id": "4d70c685-d3c7-4665-99ce-a877e094a10f",
   "metadata": {},
   "outputs": [
    {
     "name": "stdout",
     "output_type": "stream",
     "text": [
      "success:  KR\n",
      "success:  IR\n",
      "success:  FAST\n",
      "success:  GIS\n",
      "success:  CTVA\n"
     ]
    },
    {
     "name": "stderr",
     "output_type": "stream",
     "text": [
      "/var/folders/bd/4k3_gjxs037f4v_ts19mcbp00000gn/T/ipykernel_1519/1664695690.py:91: FutureWarning: The behavior of DataFrame concatenation with empty or all-NA entries is deprecated. In a future version, this will no longer exclude empty or all-NA columns when determining the result dtypes. To retain the old behavior, exclude the relevant entries before the concat operation.\n",
      "  info_df = pd.concat([i,info_df],ignore_index=True)\n"
     ]
    },
    {
     "name": "stdout",
     "output_type": "stream",
     "text": [
      "success:  MSTR\n",
      "success:  VRT\n",
      "success:  EXC\n"
     ]
    },
    {
     "name": "stderr",
     "output_type": "stream",
     "text": [
      "/var/folders/bd/4k3_gjxs037f4v_ts19mcbp00000gn/T/ipykernel_1519/1664695690.py:91: FutureWarning: The behavior of DataFrame concatenation with empty or all-NA entries is deprecated. In a future version, this will no longer exclude empty or all-NA columns when determining the result dtypes. To retain the old behavior, exclude the relevant entries before the concat operation.\n",
      "  info_df = pd.concat([i,info_df],ignore_index=True)\n"
     ]
    },
    {
     "name": "stdout",
     "output_type": "stream",
     "text": [
      "success:  IT\n"
     ]
    },
    {
     "name": "stderr",
     "output_type": "stream",
     "text": [
      "/var/folders/bd/4k3_gjxs037f4v_ts19mcbp00000gn/T/ipykernel_1519/1664695690.py:91: FutureWarning: The behavior of DataFrame concatenation with empty or all-NA entries is deprecated. In a future version, this will no longer exclude empty or all-NA columns when determining the result dtypes. To retain the old behavior, exclude the relevant entries before the concat operation.\n",
      "  info_df = pd.concat([i,info_df],ignore_index=True)\n"
     ]
    },
    {
     "name": "stdout",
     "output_type": "stream",
     "text": [
      "success:  AEM\n",
      "success:  DKILY\n",
      "success:  FERG\n",
      "success:  IDXX\n",
      "success:  WTKWY\n",
      "success:  SVNDY\n"
     ]
    },
    {
     "name": "stderr",
     "output_type": "stream",
     "text": [
      "/var/folders/bd/4k3_gjxs037f4v_ts19mcbp00000gn/T/ipykernel_1519/1664695690.py:91: FutureWarning: The behavior of DataFrame concatenation with empty or all-NA entries is deprecated. In a future version, this will no longer exclude empty or all-NA columns when determining the result dtypes. To retain the old behavior, exclude the relevant entries before the concat operation.\n",
      "  info_df = pd.concat([i,info_df],ignore_index=True)\n"
     ]
    },
    {
     "name": "stdout",
     "output_type": "stream",
     "text": [
      "success:  BSBR\n",
      "success:  VRSK\n",
      "success:  AME\n"
     ]
    },
    {
     "name": "stderr",
     "output_type": "stream",
     "text": [
      "/var/folders/bd/4k3_gjxs037f4v_ts19mcbp00000gn/T/ipykernel_1519/1664695690.py:91: FutureWarning: The behavior of DataFrame concatenation with empty or all-NA entries is deprecated. In a future version, this will no longer exclude empty or all-NA columns when determining the result dtypes. To retain the old behavior, exclude the relevant entries before the concat operation.\n",
      "  info_df = pd.concat([i,info_df],ignore_index=True)\n"
     ]
    },
    {
     "name": "stdout",
     "output_type": "stream",
     "text": [
      "success:  NWG\n",
      "success:  SNOW\n",
      "success:  LVS\n",
      "success:  GLW\n"
     ]
    },
    {
     "name": "stderr",
     "output_type": "stream",
     "text": [
      "/var/folders/bd/4k3_gjxs037f4v_ts19mcbp00000gn/T/ipykernel_1519/1664695690.py:91: FutureWarning: The behavior of DataFrame concatenation with empty or all-NA entries is deprecated. In a future version, this will no longer exclude empty or all-NA columns when determining the result dtypes. To retain the old behavior, exclude the relevant entries before the concat operation.\n",
      "  info_df = pd.concat([i,info_df],ignore_index=True)\n"
     ]
    },
    {
     "name": "stdout",
     "output_type": "stream",
     "text": [
      "success:  STLA\n",
      "success:  DOW\n",
      "success:  HSY\n",
      "success:  YUM\n",
      "success:  CTSH\n",
      "success:  ABEV\n",
      "success:  EA\n",
      "success:  EXR\n",
      "success:  CNC\n",
      "success:  BKR\n",
      "success:  CBRE\n"
     ]
    },
    {
     "name": "stderr",
     "output_type": "stream",
     "text": [
      "/var/folders/bd/4k3_gjxs037f4v_ts19mcbp00000gn/T/ipykernel_1519/1664695690.py:91: FutureWarning: The behavior of DataFrame concatenation with empty or all-NA entries is deprecated. In a future version, this will no longer exclude empty or all-NA columns when determining the result dtypes. To retain the old behavior, exclude the relevant entries before the concat operation.\n",
      "  info_df = pd.concat([i,info_df],ignore_index=True)\n"
     ]
    },
    {
     "name": "stdout",
     "output_type": "stream",
     "text": [
      "success:  ATEYY\n",
      "success:  SYY\n",
      "success:  BIDU\n",
      "success:  CCEP\n",
      "success:  MRAAY\n",
      "success:  DFS\n",
      "success:  ED\n",
      "success:  EFX\n",
      "success:  DD\n"
     ]
    },
    {
     "name": "stderr",
     "output_type": "stream",
     "text": [
      "/var/folders/bd/4k3_gjxs037f4v_ts19mcbp00000gn/T/ipykernel_1519/1664695690.py:91: FutureWarning: The behavior of DataFrame concatenation with empty or all-NA entries is deprecated. In a future version, this will no longer exclude empty or all-NA columns when determining the result dtypes. To retain the old behavior, exclude the relevant entries before the concat operation.\n",
      "  info_df = pd.concat([i,info_df],ignore_index=True)\n"
     ]
    },
    {
     "name": "stdout",
     "output_type": "stream",
     "text": [
      "success:  NUE\n",
      "success:  XEL\n"
     ]
    },
    {
     "name": "stderr",
     "output_type": "stream",
     "text": [
      "/var/folders/bd/4k3_gjxs037f4v_ts19mcbp00000gn/T/ipykernel_1519/1664695690.py:91: FutureWarning: The behavior of DataFrame concatenation with empty or all-NA entries is deprecated. In a future version, this will no longer exclude empty or all-NA columns when determining the result dtypes. To retain the old behavior, exclude the relevant entries before the concat operation.\n",
      "  info_df = pd.concat([i,info_df],ignore_index=True)\n"
     ]
    },
    {
     "name": "stdout",
     "output_type": "stream",
     "text": [
      "success:  RKT\n"
     ]
    },
    {
     "name": "stderr",
     "output_type": "stream",
     "text": [
      "/var/folders/bd/4k3_gjxs037f4v_ts19mcbp00000gn/T/ipykernel_1519/1664695690.py:91: FutureWarning: The behavior of DataFrame concatenation with empty or all-NA entries is deprecated. In a future version, this will no longer exclude empty or all-NA columns when determining the result dtypes. To retain the old behavior, exclude the relevant entries before the concat operation.\n",
      "  info_df = pd.concat([i,info_df],ignore_index=True)\n"
     ]
    },
    {
     "name": "stdout",
     "output_type": "stream",
     "text": [
      "success:  ALNY\n"
     ]
    },
    {
     "name": "stderr",
     "output_type": "stream",
     "text": [
      "/var/folders/bd/4k3_gjxs037f4v_ts19mcbp00000gn/T/ipykernel_1519/1664695690.py:91: FutureWarning: The behavior of DataFrame concatenation with empty or all-NA entries is deprecated. In a future version, this will no longer exclude empty or all-NA columns when determining the result dtypes. To retain the old behavior, exclude the relevant entries before the concat operation.\n",
      "  info_df = pd.concat([i,info_df],ignore_index=True)\n"
     ]
    },
    {
     "name": "stdout",
     "output_type": "stream",
     "text": [
      "success:  IRM\n",
      "success:  RMD\n"
     ]
    },
    {
     "name": "stderr",
     "output_type": "stream",
     "text": [
      "/var/folders/bd/4k3_gjxs037f4v_ts19mcbp00000gn/T/ipykernel_1519/1664695690.py:91: FutureWarning: The behavior of DataFrame concatenation with empty or all-NA entries is deprecated. In a future version, this will no longer exclude empty or all-NA columns when determining the result dtypes. To retain the old behavior, exclude the relevant entries before the concat operation.\n",
      "  info_df = pd.concat([i,info_df],ignore_index=True)\n"
     ]
    },
    {
     "name": "stdout",
     "output_type": "stream",
     "text": [
      "success:  GOLD\n",
      "success:  TRGP\n",
      "success:  HPQ\n",
      "Error fetching data for GBTC: If using all scalar values, you must pass an index\n",
      "success:  GBTC\n",
      "Error fetching data for DIA: If using all scalar values, you must pass an index\n",
      "success:  DIA\n",
      "success:  LULU\n"
     ]
    },
    {
     "name": "stderr",
     "output_type": "stream",
     "text": [
      "/var/folders/bd/4k3_gjxs037f4v_ts19mcbp00000gn/T/ipykernel_1519/1664695690.py:91: FutureWarning: The behavior of DataFrame concatenation with empty or all-NA entries is deprecated. In a future version, this will no longer exclude empty or all-NA columns when determining the result dtypes. To retain the old behavior, exclude the relevant entries before the concat operation.\n",
      "  info_df = pd.concat([i,info_df],ignore_index=True)\n"
     ]
    },
    {
     "name": "stdout",
     "output_type": "stream",
     "text": [
      "success:  HIG\n"
     ]
    },
    {
     "name": "stderr",
     "output_type": "stream",
     "text": [
      "/var/folders/bd/4k3_gjxs037f4v_ts19mcbp00000gn/T/ipykernel_1519/1664695690.py:91: FutureWarning: The behavior of DataFrame concatenation with empty or all-NA entries is deprecated. In a future version, this will no longer exclude empty or all-NA columns when determining the result dtypes. To retain the old behavior, exclude the relevant entries before the concat operation.\n",
      "  info_df = pd.concat([i,info_df],ignore_index=True)\n"
     ]
    },
    {
     "name": "stdout",
     "output_type": "stream",
     "text": [
      "success:  VICI\n",
      "success:  DB\n",
      "success:  EL\n",
      "success:  VEEV\n"
     ]
    },
    {
     "name": "stderr",
     "output_type": "stream",
     "text": [
      "/var/folders/bd/4k3_gjxs037f4v_ts19mcbp00000gn/T/ipykernel_1519/1664695690.py:91: FutureWarning: The behavior of DataFrame concatenation with empty or all-NA entries is deprecated. In a future version, this will no longer exclude empty or all-NA columns when determining the result dtypes. To retain the old behavior, exclude the relevant entries before the concat operation.\n",
      "  info_df = pd.concat([i,info_df],ignore_index=True)\n"
     ]
    },
    {
     "name": "stdout",
     "output_type": "stream",
     "text": [
      "success:  SLF\n",
      "success:  WIT\n"
     ]
    },
    {
     "name": "stderr",
     "output_type": "stream",
     "text": [
      "/var/folders/bd/4k3_gjxs037f4v_ts19mcbp00000gn/T/ipykernel_1519/1664695690.py:91: FutureWarning: The behavior of DataFrame concatenation with empty or all-NA entries is deprecated. In a future version, this will no longer exclude empty or all-NA columns when determining the result dtypes. To retain the old behavior, exclude the relevant entries before the concat operation.\n",
      "  info_df = pd.concat([i,info_df],ignore_index=True)\n"
     ]
    },
    {
     "name": "stdout",
     "output_type": "stream",
     "text": [
      "success:  WDS\n",
      "success:  EBAY\n"
     ]
    },
    {
     "name": "stderr",
     "output_type": "stream",
     "text": [
      "/var/folders/bd/4k3_gjxs037f4v_ts19mcbp00000gn/T/ipykernel_1519/1664695690.py:91: FutureWarning: The behavior of DataFrame concatenation with empty or all-NA entries is deprecated. In a future version, this will no longer exclude empty or all-NA columns when determining the result dtypes. To retain the old behavior, exclude the relevant entries before the concat operation.\n",
      "  info_df = pd.concat([i,info_df],ignore_index=True)\n"
     ]
    },
    {
     "name": "stdout",
     "output_type": "stream",
     "text": [
      "success:  ANYYY\n"
     ]
    },
    {
     "name": "stderr",
     "output_type": "stream",
     "text": [
      "/var/folders/bd/4k3_gjxs037f4v_ts19mcbp00000gn/T/ipykernel_1519/1664695690.py:91: FutureWarning: The behavior of DataFrame concatenation with empty or all-NA entries is deprecated. In a future version, this will no longer exclude empty or all-NA columns when determining the result dtypes. To retain the old behavior, exclude the relevant entries before the concat operation.\n",
      "  info_df = pd.concat([i,info_df],ignore_index=True)\n"
     ]
    },
    {
     "name": "stdout",
     "output_type": "stream",
     "text": [
      "success:  QSR\n",
      "success:  EIX\n"
     ]
    },
    {
     "name": "stderr",
     "output_type": "stream",
     "text": [
      "/var/folders/bd/4k3_gjxs037f4v_ts19mcbp00000gn/T/ipykernel_1519/1664695690.py:91: FutureWarning: The behavior of DataFrame concatenation with empty or all-NA entries is deprecated. In a future version, this will no longer exclude empty or all-NA columns when determining the result dtypes. To retain the old behavior, exclude the relevant entries before the concat operation.\n",
      "  info_df = pd.concat([i,info_df],ignore_index=True)\n"
     ]
    },
    {
     "name": "stdout",
     "output_type": "stream",
     "text": [
      "success:  CVE\n"
     ]
    },
    {
     "name": "stderr",
     "output_type": "stream",
     "text": [
      "/var/folders/bd/4k3_gjxs037f4v_ts19mcbp00000gn/T/ipykernel_1519/1664695690.py:91: FutureWarning: The behavior of DataFrame concatenation with empty or all-NA entries is deprecated. In a future version, this will no longer exclude empty or all-NA columns when determining the result dtypes. To retain the old behavior, exclude the relevant entries before the concat operation.\n",
      "  info_df = pd.concat([i,info_df],ignore_index=True)\n"
     ]
    },
    {
     "name": "stdout",
     "output_type": "stream",
     "text": [
      "success:  DAL\n",
      "success:  TSCO\n",
      "success:  XYL\n"
     ]
    },
    {
     "name": "stderr",
     "output_type": "stream",
     "text": [
      "/var/folders/bd/4k3_gjxs037f4v_ts19mcbp00000gn/T/ipykernel_1519/1664695690.py:91: FutureWarning: The behavior of DataFrame concatenation with empty or all-NA entries is deprecated. In a future version, this will no longer exclude empty or all-NA columns when determining the result dtypes. To retain the old behavior, exclude the relevant entries before the concat operation.\n",
      "  info_df = pd.concat([i,info_df],ignore_index=True)\n"
     ]
    },
    {
     "name": "stdout",
     "output_type": "stream",
     "text": [
      "success:  AXON\n"
     ]
    },
    {
     "name": "stderr",
     "output_type": "stream",
     "text": [
      "/var/folders/bd/4k3_gjxs037f4v_ts19mcbp00000gn/T/ipykernel_1519/1664695690.py:91: FutureWarning: The behavior of DataFrame concatenation with empty or all-NA entries is deprecated. In a future version, this will no longer exclude empty or all-NA columns when determining the result dtypes. To retain the old behavior, exclude the relevant entries before the concat operation.\n",
      "  info_df = pd.concat([i,info_df],ignore_index=True)\n"
     ]
    },
    {
     "name": "stdout",
     "output_type": "stream",
     "text": [
      "success:  ARGX\n",
      "success:  MLM\n",
      "success:  NVZMY\n"
     ]
    },
    {
     "name": "stderr",
     "output_type": "stream",
     "text": [
      "/var/folders/bd/4k3_gjxs037f4v_ts19mcbp00000gn/T/ipykernel_1519/1664695690.py:91: FutureWarning: The behavior of DataFrame concatenation with empty or all-NA entries is deprecated. In a future version, this will no longer exclude empty or all-NA columns when determining the result dtypes. To retain the old behavior, exclude the relevant entries before the concat operation.\n",
      "  info_df = pd.concat([i,info_df],ignore_index=True)\n"
     ]
    },
    {
     "name": "stdout",
     "output_type": "stream",
     "text": [
      "success:  WAB\n"
     ]
    },
    {
     "name": "stderr",
     "output_type": "stream",
     "text": [
      "/var/folders/bd/4k3_gjxs037f4v_ts19mcbp00000gn/T/ipykernel_1519/1664695690.py:91: FutureWarning: The behavior of DataFrame concatenation with empty or all-NA entries is deprecated. In a future version, this will no longer exclude empty or all-NA columns when determining the result dtypes. To retain the old behavior, exclude the relevant entries before the concat operation.\n",
      "  info_df = pd.concat([i,info_df],ignore_index=True)\n"
     ]
    },
    {
     "name": "stdout",
     "output_type": "stream",
     "text": [
      "success:  GWLIF\n",
      "success:  PPRUY\n"
     ]
    },
    {
     "name": "stderr",
     "output_type": "stream",
     "text": [
      "/var/folders/bd/4k3_gjxs037f4v_ts19mcbp00000gn/T/ipykernel_1519/1664695690.py:91: FutureWarning: The behavior of DataFrame concatenation with empty or all-NA entries is deprecated. In a future version, this will no longer exclude empty or all-NA columns when determining the result dtypes. To retain the old behavior, exclude the relevant entries before the concat operation.\n",
      "  info_df = pd.concat([i,info_df],ignore_index=True)\n"
     ]
    },
    {
     "name": "stdout",
     "output_type": "stream",
     "text": [
      "success:  FRFHF\n",
      "success:  GRMN\n",
      "success:  VMC\n",
      "Error fetching data for MDY: If using all scalar values, you must pass an index\n",
      "success:  MDY\n",
      "success:  HEI\n",
      "success:  AVB\n",
      "success:  CSGP\n",
      "success:  MTD\n"
     ]
    },
    {
     "name": "stderr",
     "output_type": "stream",
     "text": [
      "/var/folders/bd/4k3_gjxs037f4v_ts19mcbp00000gn/T/ipykernel_1519/1664695690.py:91: FutureWarning: The behavior of DataFrame concatenation with empty or all-NA entries is deprecated. In a future version, this will no longer exclude empty or all-NA columns when determining the result dtypes. To retain the old behavior, exclude the relevant entries before the concat operation.\n",
      "  info_df = pd.concat([i,info_df],ignore_index=True)\n"
     ]
    },
    {
     "name": "stdout",
     "output_type": "stream",
     "text": [
      "success:  BCE\n",
      "success:  LYB\n"
     ]
    },
    {
     "name": "stderr",
     "output_type": "stream",
     "text": [
      "/var/folders/bd/4k3_gjxs037f4v_ts19mcbp00000gn/T/ipykernel_1519/1664695690.py:91: FutureWarning: The behavior of DataFrame concatenation with empty or all-NA entries is deprecated. In a future version, this will no longer exclude empty or all-NA columns when determining the result dtypes. To retain the old behavior, exclude the relevant entries before the concat operation.\n",
      "  info_df = pd.concat([i,info_df],ignore_index=True)\n"
     ]
    },
    {
     "name": "stdout",
     "output_type": "stream",
     "text": [
      "success:  FUJIY\n",
      "success:  PHG\n"
     ]
    },
    {
     "name": "stderr",
     "output_type": "stream",
     "text": [
      "/var/folders/bd/4k3_gjxs037f4v_ts19mcbp00000gn/T/ipykernel_1519/1664695690.py:91: FutureWarning: The behavior of DataFrame concatenation with empty or all-NA entries is deprecated. In a future version, this will no longer exclude empty or all-NA columns when determining the result dtypes. To retain the old behavior, exclude the relevant entries before the concat operation.\n",
      "  info_df = pd.concat([i,info_df],ignore_index=True)\n"
     ]
    },
    {
     "name": "stdout",
     "output_type": "stream",
     "text": [
      "success:  TLGPY\n",
      "success:  ON\n",
      "success:  ROK\n"
     ]
    },
    {
     "name": "stderr",
     "output_type": "stream",
     "text": [
      "/var/folders/bd/4k3_gjxs037f4v_ts19mcbp00000gn/T/ipykernel_1519/1664695690.py:91: FutureWarning: The behavior of DataFrame concatenation with empty or all-NA entries is deprecated. In a future version, this will no longer exclude empty or all-NA columns when determining the result dtypes. To retain the old behavior, exclude the relevant entries before the concat operation.\n",
      "  info_df = pd.concat([i,info_df],ignore_index=True)\n"
     ]
    },
    {
     "name": "stdout",
     "output_type": "stream",
     "text": [
      "success:  BRO\n"
     ]
    },
    {
     "name": "stderr",
     "output_type": "stream",
     "text": [
      "/var/folders/bd/4k3_gjxs037f4v_ts19mcbp00000gn/T/ipykernel_1519/1664695690.py:91: FutureWarning: The behavior of DataFrame concatenation with empty or all-NA entries is deprecated. In a future version, this will no longer exclude empty or all-NA columns when determining the result dtypes. To retain the old behavior, exclude the relevant entries before the concat operation.\n",
      "  info_df = pd.concat([i,info_df],ignore_index=True)\n"
     ]
    },
    {
     "name": "stdout",
     "output_type": "stream",
     "text": [
      "success:  FER\n",
      "success:  WEC\n"
     ]
    },
    {
     "name": "stderr",
     "output_type": "stream",
     "text": [
      "/var/folders/bd/4k3_gjxs037f4v_ts19mcbp00000gn/T/ipykernel_1519/1664695690.py:91: FutureWarning: The behavior of DataFrame concatenation with empty or all-NA entries is deprecated. In a future version, this will no longer exclude empty or all-NA columns when determining the result dtypes. To retain the old behavior, exclude the relevant entries before the concat operation.\n",
      "  info_df = pd.concat([i,info_df],ignore_index=True)\n"
     ]
    },
    {
     "name": "stdout",
     "output_type": "stream",
     "text": [
      "success:  OWL\n",
      "success:  LI\n"
     ]
    },
    {
     "name": "stderr",
     "output_type": "stream",
     "text": [
      "/var/folders/bd/4k3_gjxs037f4v_ts19mcbp00000gn/T/ipykernel_1519/1664695690.py:91: FutureWarning: The behavior of DataFrame concatenation with empty or all-NA entries is deprecated. In a future version, this will no longer exclude empty or all-NA columns when determining the result dtypes. To retain the old behavior, exclude the relevant entries before the concat operation.\n",
      "  info_df = pd.concat([i,info_df],ignore_index=True)\n"
     ]
    },
    {
     "name": "stdout",
     "output_type": "stream",
     "text": [
      "success:  CDW\n",
      "success:  PPG\n",
      "success:  WTW\n"
     ]
    },
    {
     "name": "stderr",
     "output_type": "stream",
     "text": [
      "/var/folders/bd/4k3_gjxs037f4v_ts19mcbp00000gn/T/ipykernel_1519/1664695690.py:91: FutureWarning: The behavior of DataFrame concatenation with empty or all-NA entries is deprecated. In a future version, this will no longer exclude empty or all-NA columns when determining the result dtypes. To retain the old behavior, exclude the relevant entries before the concat operation.\n",
      "  info_df = pd.concat([i,info_df],ignore_index=True)\n"
     ]
    },
    {
     "name": "stdout",
     "output_type": "stream",
     "text": [
      "success:  MTB\n",
      "success:  BEKE\n"
     ]
    },
    {
     "name": "stderr",
     "output_type": "stream",
     "text": [
      "/var/folders/bd/4k3_gjxs037f4v_ts19mcbp00000gn/T/ipykernel_1519/1664695690.py:91: FutureWarning: The behavior of DataFrame concatenation with empty or all-NA entries is deprecated. In a future version, this will no longer exclude empty or all-NA columns when determining the result dtypes. To retain the old behavior, exclude the relevant entries before the concat operation.\n",
      "  info_df = pd.concat([i,info_df],ignore_index=True)\n"
     ]
    },
    {
     "name": "stdout",
     "output_type": "stream",
     "text": [
      "success:  CHT\n"
     ]
    },
    {
     "name": "stderr",
     "output_type": "stream",
     "text": [
      "/var/folders/bd/4k3_gjxs037f4v_ts19mcbp00000gn/T/ipykernel_1519/1664695690.py:91: FutureWarning: The behavior of DataFrame concatenation with empty or all-NA entries is deprecated. In a future version, this will no longer exclude empty or all-NA columns when determining the result dtypes. To retain the old behavior, exclude the relevant entries before the concat operation.\n",
      "  info_df = pd.concat([i,info_df],ignore_index=True)\n"
     ]
    },
    {
     "name": "stdout",
     "output_type": "stream",
     "text": [
      "success:  NVR\n",
      "success:  PHM\n"
     ]
    },
    {
     "name": "stderr",
     "output_type": "stream",
     "text": [
      "/var/folders/bd/4k3_gjxs037f4v_ts19mcbp00000gn/T/ipykernel_1519/1664695690.py:91: FutureWarning: The behavior of DataFrame concatenation with empty or all-NA entries is deprecated. In a future version, this will no longer exclude empty or all-NA columns when determining the result dtypes. To retain the old behavior, exclude the relevant entries before the concat operation.\n",
      "  info_df = pd.concat([i,info_df],ignore_index=True)\n"
     ]
    },
    {
     "name": "stdout",
     "output_type": "stream",
     "text": [
      "success:  DSCSY\n",
      "success:  HUM\n"
     ]
    },
    {
     "name": "stderr",
     "output_type": "stream",
     "text": [
      "/var/folders/bd/4k3_gjxs037f4v_ts19mcbp00000gn/T/ipykernel_1519/1664695690.py:91: FutureWarning: The behavior of DataFrame concatenation with empty or all-NA entries is deprecated. In a future version, this will no longer exclude empty or all-NA columns when determining the result dtypes. To retain the old behavior, exclude the relevant entries before the concat operation.\n",
      "  info_df = pd.concat([i,info_df],ignore_index=True)\n"
     ]
    },
    {
     "name": "stdout",
     "output_type": "stream",
     "text": [
      "success:  BNTX\n",
      "success:  TW\n"
     ]
    },
    {
     "name": "stderr",
     "output_type": "stream",
     "text": [
      "/var/folders/bd/4k3_gjxs037f4v_ts19mcbp00000gn/T/ipykernel_1519/1664695690.py:91: FutureWarning: The behavior of DataFrame concatenation with empty or all-NA entries is deprecated. In a future version, this will no longer exclude empty or all-NA columns when determining the result dtypes. To retain the old behavior, exclude the relevant entries before the concat operation.\n",
      "  info_df = pd.concat([i,info_df],ignore_index=True)\n"
     ]
    },
    {
     "name": "stdout",
     "output_type": "stream",
     "text": [
      "success:  NET\n",
      "success:  FITB\n",
      "success:  EQR\n",
      "success:  HUBS\n",
      "success:  ETR\n"
     ]
    },
    {
     "name": "stderr",
     "output_type": "stream",
     "text": [
      "VLTO: Period '5y' is invalid, must be one of ['1d', '5d', '1mo', '3mo', '6mo', '1y', '2y', 'ytd', 'max']\n",
      "/var/folders/bd/4k3_gjxs037f4v_ts19mcbp00000gn/T/ipykernel_1519/1664695690.py:91: FutureWarning: The behavior of DataFrame concatenation with empty or all-NA entries is deprecated. In a future version, this will no longer exclude empty or all-NA columns when determining the result dtypes. To retain the old behavior, exclude the relevant entries before the concat operation.\n",
      "  info_df = pd.concat([i,info_df],ignore_index=True)\n"
     ]
    },
    {
     "name": "stdout",
     "output_type": "stream",
     "text": [
      "success:  VLTO\n",
      "success:  ANSS\n"
     ]
    },
    {
     "name": "stderr",
     "output_type": "stream",
     "text": [
      "/var/folders/bd/4k3_gjxs037f4v_ts19mcbp00000gn/T/ipykernel_1519/1664695690.py:91: FutureWarning: The behavior of DataFrame concatenation with empty or all-NA entries is deprecated. In a future version, this will no longer exclude empty or all-NA columns when determining the result dtypes. To retain the old behavior, exclude the relevant entries before the concat operation.\n",
      "  info_df = pd.concat([i,info_df],ignore_index=True)\n"
     ]
    },
    {
     "name": "stdout",
     "output_type": "stream",
     "text": [
      "success:  FCNCA\n"
     ]
    },
    {
     "name": "stderr",
     "output_type": "stream",
     "text": [
      "/var/folders/bd/4k3_gjxs037f4v_ts19mcbp00000gn/T/ipykernel_1519/1664695690.py:91: FutureWarning: The behavior of DataFrame concatenation with empty or all-NA entries is deprecated. In a future version, this will no longer exclude empty or all-NA columns when determining the result dtypes. To retain the old behavior, exclude the relevant entries before the concat operation.\n",
      "  info_df = pd.concat([i,info_df],ignore_index=True)\n"
     ]
    },
    {
     "name": "stdout",
     "output_type": "stream",
     "text": [
      "success:  OEZVY\n",
      "success:  DXCM\n",
      "success:  K\n"
     ]
    },
    {
     "name": "stderr",
     "output_type": "stream",
     "text": [
      "/var/folders/bd/4k3_gjxs037f4v_ts19mcbp00000gn/T/ipykernel_1519/1664695690.py:91: FutureWarning: The behavior of DataFrame concatenation with empty or all-NA entries is deprecated. In a future version, this will no longer exclude empty or all-NA columns when determining the result dtypes. To retain the old behavior, exclude the relevant entries before the concat operation.\n",
      "  info_df = pd.concat([i,info_df],ignore_index=True)\n"
     ]
    },
    {
     "name": "stdout",
     "output_type": "stream",
     "text": [
      "success:  BDORY\n"
     ]
    },
    {
     "name": "stderr",
     "output_type": "stream",
     "text": [
      "/var/folders/bd/4k3_gjxs037f4v_ts19mcbp00000gn/T/ipykernel_1519/1664695690.py:91: FutureWarning: The behavior of DataFrame concatenation with empty or all-NA entries is deprecated. In a future version, this will no longer exclude empty or all-NA columns when determining the result dtypes. To retain the old behavior, exclude the relevant entries before the concat operation.\n",
      "  info_df = pd.concat([i,info_df],ignore_index=True)\n"
     ]
    },
    {
     "name": "stdout",
     "output_type": "stream",
     "text": [
      "success:  ERIE\n",
      "success:  BBD\n"
     ]
    },
    {
     "name": "stderr",
     "output_type": "stream",
     "text": [
      "/var/folders/bd/4k3_gjxs037f4v_ts19mcbp00000gn/T/ipykernel_1519/1664695690.py:91: FutureWarning: The behavior of DataFrame concatenation with empty or all-NA entries is deprecated. In a future version, this will no longer exclude empty or all-NA columns when determining the result dtypes. To retain the old behavior, exclude the relevant entries before the concat operation.\n",
      "  info_df = pd.concat([i,info_df],ignore_index=True)\n"
     ]
    },
    {
     "name": "stdout",
     "output_type": "stream",
     "text": [
      "success:  ADM\n",
      "success:  DVN\n"
     ]
    },
    {
     "name": "stderr",
     "output_type": "stream",
     "text": [
      "/var/folders/bd/4k3_gjxs037f4v_ts19mcbp00000gn/T/ipykernel_1519/1664695690.py:91: FutureWarning: The behavior of DataFrame concatenation with empty or all-NA entries is deprecated. In a future version, this will no longer exclude empty or all-NA columns when determining the result dtypes. To retain the old behavior, exclude the relevant entries before the concat operation.\n",
      "  info_df = pd.concat([i,info_df],ignore_index=True)\n"
     ]
    },
    {
     "name": "stdout",
     "output_type": "stream",
     "text": [
      "success:  WPM\n",
      "success:  HPE\n",
      "success:  CAH\n"
     ]
    },
    {
     "name": "stderr",
     "output_type": "stream",
     "text": [
      "/var/folders/bd/4k3_gjxs037f4v_ts19mcbp00000gn/T/ipykernel_1519/1664695690.py:91: FutureWarning: The behavior of DataFrame concatenation with empty or all-NA entries is deprecated. In a future version, this will no longer exclude empty or all-NA columns when determining the result dtypes. To retain the old behavior, exclude the relevant entries before the concat operation.\n",
      "  info_df = pd.concat([i,info_df],ignore_index=True)\n"
     ]
    },
    {
     "name": "stdout",
     "output_type": "stream",
     "text": [
      "success:  TEF\n",
      "success:  ZS\n",
      "success:  KEYS\n",
      "success:  FTV\n",
      "success:  PUBGY\n",
      "success:  AWK\n",
      "success:  TTWO\n",
      "Error fetching data for BFA: If using all scalar values, you must pass an index\n",
      "success:  BFA\n"
     ]
    },
    {
     "name": "stderr",
     "output_type": "stream",
     "text": [
      "/var/folders/bd/4k3_gjxs037f4v_ts19mcbp00000gn/T/ipykernel_1519/1664695690.py:91: FutureWarning: The behavior of DataFrame concatenation with empty or all-NA entries is deprecated. In a future version, this will no longer exclude empty or all-NA columns when determining the result dtypes. To retain the old behavior, exclude the relevant entries before the concat operation.\n",
      "  info_df = pd.concat([i,info_df],ignore_index=True)\n"
     ]
    },
    {
     "name": "stdout",
     "output_type": "stream",
     "text": [
      "success:  IOT\n",
      "success:  HAL\n"
     ]
    },
    {
     "name": "stderr",
     "output_type": "stream",
     "text": [
      "/var/folders/bd/4k3_gjxs037f4v_ts19mcbp00000gn/T/ipykernel_1519/1664695690.py:91: FutureWarning: The behavior of DataFrame concatenation with empty or all-NA entries is deprecated. In a future version, this will no longer exclude empty or all-NA columns when determining the result dtypes. To retain the old behavior, exclude the relevant entries before the concat operation.\n",
      "  info_df = pd.concat([i,info_df],ignore_index=True)\n"
     ]
    },
    {
     "name": "stdout",
     "output_type": "stream",
     "text": [
      "success:  BIIB\n"
     ]
    },
    {
     "name": "stderr",
     "output_type": "stream",
     "text": [
      "/var/folders/bd/4k3_gjxs037f4v_ts19mcbp00000gn/T/ipykernel_1519/1664695690.py:91: FutureWarning: The behavior of DataFrame concatenation with empty or all-NA entries is deprecated. In a future version, this will no longer exclude empty or all-NA columns when determining the result dtypes. To retain the old behavior, exclude the relevant entries before the concat operation.\n",
      "  info_df = pd.concat([i,info_df],ignore_index=True)\n"
     ]
    },
    {
     "name": "stdout",
     "output_type": "stream",
     "text": [
      "success:  RBLX\n"
     ]
    },
    {
     "name": "stderr",
     "output_type": "stream",
     "text": [
      "/var/folders/bd/4k3_gjxs037f4v_ts19mcbp00000gn/T/ipykernel_1519/1664695690.py:91: FutureWarning: The behavior of DataFrame concatenation with empty or all-NA entries is deprecated. In a future version, this will no longer exclude empty or all-NA columns when determining the result dtypes. To retain the old behavior, exclude the relevant entries before the concat operation.\n",
      "  info_df = pd.concat([i,info_df],ignore_index=True)\n"
     ]
    },
    {
     "name": "stdout",
     "output_type": "stream",
     "text": [
      "success:  GIB\n",
      "success:  STT\n"
     ]
    },
    {
     "name": "stderr",
     "output_type": "stream",
     "text": [
      "/var/folders/bd/4k3_gjxs037f4v_ts19mcbp00000gn/T/ipykernel_1519/1664695690.py:91: FutureWarning: The behavior of DataFrame concatenation with empty or all-NA entries is deprecated. In a future version, this will no longer exclude empty or all-NA columns when determining the result dtypes. To retain the old behavior, exclude the relevant entries before the concat operation.\n",
      "  info_df = pd.concat([i,info_df],ignore_index=True)\n"
     ]
    },
    {
     "name": "stdout",
     "output_type": "stream",
     "text": [
      "success:  BGNE\n",
      "success:  IFF\n",
      "success:  FANUY\n",
      "success:  DTE\n"
     ]
    },
    {
     "name": "stderr",
     "output_type": "stream",
     "text": [
      "/var/folders/bd/4k3_gjxs037f4v_ts19mcbp00000gn/T/ipykernel_1519/1664695690.py:91: FutureWarning: The behavior of DataFrame concatenation with empty or all-NA entries is deprecated. In a future version, this will no longer exclude empty or all-NA columns when determining the result dtypes. To retain the old behavior, exclude the relevant entries before the concat operation.\n",
      "  info_df = pd.concat([i,info_df],ignore_index=True)\n"
     ]
    },
    {
     "name": "stdout",
     "output_type": "stream",
     "text": [
      "success:  SMCI\n"
     ]
    },
    {
     "name": "stderr",
     "output_type": "stream",
     "text": [
      "/var/folders/bd/4k3_gjxs037f4v_ts19mcbp00000gn/T/ipykernel_1519/1664695690.py:91: FutureWarning: The behavior of DataFrame concatenation with empty or all-NA entries is deprecated. In a future version, this will no longer exclude empty or all-NA columns when determining the result dtypes. To retain the old behavior, exclude the relevant entries before the concat operation.\n",
      "  info_df = pd.concat([i,info_df],ignore_index=True)\n"
     ]
    },
    {
     "name": "stdout",
     "output_type": "stream",
     "text": [
      "success:  VTR\n",
      "success:  NTAP\n",
      "success:  LYV\n",
      "success:  RJF\n",
      "success:  DOV\n"
     ]
    },
    {
     "name": "stderr",
     "output_type": "stream",
     "text": [
      "/var/folders/bd/4k3_gjxs037f4v_ts19mcbp00000gn/T/ipykernel_1519/1664695690.py:91: FutureWarning: The behavior of DataFrame concatenation with empty or all-NA entries is deprecated. In a future version, this will no longer exclude empty or all-NA columns when determining the result dtypes. To retain the old behavior, exclude the relevant entries before the concat operation.\n",
      "  info_df = pd.concat([i,info_df],ignore_index=True)\n"
     ]
    },
    {
     "name": "stdout",
     "output_type": "stream",
     "text": [
      "success:  IX\n",
      "success:  SBAC\n"
     ]
    },
    {
     "name": "stderr",
     "output_type": "stream",
     "text": [
      "/var/folders/bd/4k3_gjxs037f4v_ts19mcbp00000gn/T/ipykernel_1519/1664695690.py:91: FutureWarning: The behavior of DataFrame concatenation with empty or all-NA entries is deprecated. In a future version, this will no longer exclude empty or all-NA columns when determining the result dtypes. To retain the old behavior, exclude the relevant entries before the concat operation.\n",
      "  info_df = pd.concat([i,info_df],ignore_index=True)\n"
     ]
    },
    {
     "name": "stdout",
     "output_type": "stream",
     "text": [
      "success:  TECK\n",
      "success:  STM\n"
     ]
    },
    {
     "name": "stderr",
     "output_type": "stream",
     "text": [
      "/var/folders/bd/4k3_gjxs037f4v_ts19mcbp00000gn/T/ipykernel_1519/1664695690.py:91: FutureWarning: The behavior of DataFrame concatenation with empty or all-NA entries is deprecated. In a future version, this will no longer exclude empty or all-NA columns when determining the result dtypes. To retain the old behavior, exclude the relevant entries before the concat operation.\n",
      "  info_df = pd.concat([i,info_df],ignore_index=True)\n"
     ]
    },
    {
     "name": "stdout",
     "output_type": "stream",
     "text": [
      "success:  VOD\n",
      "success:  BR\n",
      "success:  GPN\n",
      "success:  TYL\n"
     ]
    },
    {
     "name": "stderr",
     "output_type": "stream",
     "text": [
      "/var/folders/bd/4k3_gjxs037f4v_ts19mcbp00000gn/T/ipykernel_1519/1664695690.py:91: FutureWarning: The behavior of DataFrame concatenation with empty or all-NA entries is deprecated. In a future version, this will no longer exclude empty or all-NA columns when determining the result dtypes. To retain the old behavior, exclude the relevant entries before the concat operation.\n",
      "  info_df = pd.concat([i,info_df],ignore_index=True)\n"
     ]
    },
    {
     "name": "stdout",
     "output_type": "stream",
     "text": [
      "success:  CCL\n"
     ]
    },
    {
     "name": "stderr",
     "output_type": "stream",
     "text": [
      "/var/folders/bd/4k3_gjxs037f4v_ts19mcbp00000gn/T/ipykernel_1519/1664695690.py:91: FutureWarning: The behavior of DataFrame concatenation with empty or all-NA entries is deprecated. In a future version, this will no longer exclude empty or all-NA columns when determining the result dtypes. To retain the old behavior, exclude the relevant entries before the concat operation.\n",
      "  info_df = pd.concat([i,info_df],ignore_index=True)\n"
     ]
    },
    {
     "name": "stdout",
     "output_type": "stream",
     "text": [
      "success:  KB\n"
     ]
    },
    {
     "name": "stderr",
     "output_type": "stream",
     "text": [
      "/var/folders/bd/4k3_gjxs037f4v_ts19mcbp00000gn/T/ipykernel_1519/1664695690.py:91: FutureWarning: The behavior of DataFrame concatenation with empty or all-NA entries is deprecated. In a future version, this will no longer exclude empty or all-NA columns when determining the result dtypes. To retain the old behavior, exclude the relevant entries before the concat operation.\n",
      "  info_df = pd.concat([i,info_df],ignore_index=True)\n"
     ]
    },
    {
     "name": "stdout",
     "output_type": "stream",
     "text": [
      "success:  ERIC\n",
      "success:  HST\n",
      "success:  FE\n"
     ]
    },
    {
     "name": "stderr",
     "output_type": "stream",
     "text": [
      "/var/folders/bd/4k3_gjxs037f4v_ts19mcbp00000gn/T/ipykernel_1519/1664695690.py:91: FutureWarning: The behavior of DataFrame concatenation with empty or all-NA entries is deprecated. In a future version, this will no longer exclude empty or all-NA columns when determining the result dtypes. To retain the old behavior, exclude the relevant entries before the concat operation.\n",
      "  info_df = pd.concat([i,info_df],ignore_index=True)\n"
     ]
    },
    {
     "name": "stdout",
     "output_type": "stream",
     "text": [
      "success:  DECK\n"
     ]
    },
    {
     "name": "stderr",
     "output_type": "stream",
     "text": [
      "/var/folders/bd/4k3_gjxs037f4v_ts19mcbp00000gn/T/ipykernel_1519/1664695690.py:91: FutureWarning: The behavior of DataFrame concatenation with empty or all-NA entries is deprecated. In a future version, this will no longer exclude empty or all-NA columns when determining the result dtypes. To retain the old behavior, exclude the relevant entries before the concat operation.\n",
      "  info_df = pd.concat([i,info_df],ignore_index=True)\n"
     ]
    },
    {
     "name": "stdout",
     "output_type": "stream",
     "text": [
      "success:  PBA\n",
      "success:  CHD\n"
     ]
    },
    {
     "name": "stderr",
     "output_type": "stream",
     "text": [
      "/var/folders/bd/4k3_gjxs037f4v_ts19mcbp00000gn/T/ipykernel_1519/1664695690.py:91: FutureWarning: The behavior of DataFrame concatenation with empty or all-NA entries is deprecated. In a future version, this will no longer exclude empty or all-NA columns when determining the result dtypes. To retain the old behavior, exclude the relevant entries before the concat operation.\n",
      "  info_df = pd.concat([i,info_df],ignore_index=True)\n"
     ]
    },
    {
     "name": "stdout",
     "output_type": "stream",
     "text": [
      "success:  NTDTY\n",
      "success:  NOK\n",
      "success:  PUK\n",
      "success:  ICLR\n",
      "success:  FSLR\n"
     ]
    },
    {
     "name": "stderr",
     "output_type": "stream",
     "text": [
      "SW: Period '5y' is invalid, must be one of ['1d', '5d', '1mo', '3mo', '6mo', 'ytd', 'max']\n",
      "/var/folders/bd/4k3_gjxs037f4v_ts19mcbp00000gn/T/ipykernel_1519/1664695690.py:91: FutureWarning: The behavior of DataFrame concatenation with empty or all-NA entries is deprecated. In a future version, this will no longer exclude empty or all-NA columns when determining the result dtypes. To retain the old behavior, exclude the relevant entries before the concat operation.\n",
      "  info_df = pd.concat([i,info_df],ignore_index=True)\n"
     ]
    },
    {
     "name": "stdout",
     "output_type": "stream",
     "text": [
      "success:  SW\n",
      "success:  WY\n"
     ]
    },
    {
     "name": "stderr",
     "output_type": "stream",
     "text": [
      "/var/folders/bd/4k3_gjxs037f4v_ts19mcbp00000gn/T/ipykernel_1519/1664695690.py:91: FutureWarning: The behavior of DataFrame concatenation with empty or all-NA entries is deprecated. In a future version, this will no longer exclude empty or all-NA columns when determining the result dtypes. To retain the old behavior, exclude the relevant entries before the concat operation.\n",
      "  info_df = pd.concat([i,info_df],ignore_index=True)\n"
     ]
    },
    {
     "name": "stdout",
     "output_type": "stream",
     "text": [
      "success:  NTR\n"
     ]
    },
    {
     "name": "stderr",
     "output_type": "stream",
     "text": [
      "/var/folders/bd/4k3_gjxs037f4v_ts19mcbp00000gn/T/ipykernel_1519/1664695690.py:91: FutureWarning: The behavior of DataFrame concatenation with empty or all-NA entries is deprecated. In a future version, this will no longer exclude empty or all-NA columns when determining the result dtypes. To retain the old behavior, exclude the relevant entries before the concat operation.\n",
      "  info_df = pd.concat([i,info_df],ignore_index=True)\n"
     ]
    },
    {
     "name": "stdout",
     "output_type": "stream",
     "text": [
      "success:  CQP\n"
     ]
    },
    {
     "name": "stderr",
     "output_type": "stream",
     "text": [
      "/var/folders/bd/4k3_gjxs037f4v_ts19mcbp00000gn/T/ipykernel_1519/1664695690.py:91: FutureWarning: The behavior of DataFrame concatenation with empty or all-NA entries is deprecated. In a future version, this will no longer exclude empty or all-NA columns when determining the result dtypes. To retain the old behavior, exclude the relevant entries before the concat operation.\n",
      "  info_df = pd.concat([i,info_df],ignore_index=True)\n"
     ]
    },
    {
     "name": "stdout",
     "output_type": "stream",
     "text": [
      "success:  TU\n",
      "success:  ROL\n",
      "success:  PPL\n",
      "success:  TROW\n",
      "success:  HUBB\n"
     ]
    },
    {
     "name": "stderr",
     "output_type": "stream",
     "text": [
      "/var/folders/bd/4k3_gjxs037f4v_ts19mcbp00000gn/T/ipykernel_1519/1664695690.py:91: FutureWarning: The behavior of DataFrame concatenation with empty or all-NA entries is deprecated. In a future version, this will no longer exclude empty or all-NA columns when determining the result dtypes. To retain the old behavior, exclude the relevant entries before the concat operation.\n",
      "  info_df = pd.concat([i,info_df],ignore_index=True)\n"
     ]
    },
    {
     "name": "stdout",
     "output_type": "stream",
     "text": [
      "success:  CPAY\n",
      "success:  RYAAY\n"
     ]
    },
    {
     "name": "stderr",
     "output_type": "stream",
     "text": [
      "/var/folders/bd/4k3_gjxs037f4v_ts19mcbp00000gn/T/ipykernel_1519/1664695690.py:91: FutureWarning: The behavior of DataFrame concatenation with empty or all-NA entries is deprecated. In a future version, this will no longer exclude empty or all-NA columns when determining the result dtypes. To retain the old behavior, exclude the relevant entries before the concat operation.\n",
      "  info_df = pd.concat([i,info_df],ignore_index=True)\n"
     ]
    },
    {
     "name": "stdout",
     "output_type": "stream",
     "text": [
      "success:  FNV\n"
     ]
    },
    {
     "name": "stderr",
     "output_type": "stream",
     "text": [
      "/var/folders/bd/4k3_gjxs037f4v_ts19mcbp00000gn/T/ipykernel_1519/1664695690.py:91: FutureWarning: The behavior of DataFrame concatenation with empty or all-NA entries is deprecated. In a future version, this will no longer exclude empty or all-NA columns when determining the result dtypes. To retain the old behavior, exclude the relevant entries before the concat operation.\n",
      "  info_df = pd.concat([i,info_df],ignore_index=True)\n"
     ]
    },
    {
     "name": "stdout",
     "output_type": "stream",
     "text": [
      "success:  DIDIY\n",
      "success:  AEE\n"
     ]
    },
    {
     "name": "stderr",
     "output_type": "stream",
     "text": [
      "/var/folders/bd/4k3_gjxs037f4v_ts19mcbp00000gn/T/ipykernel_1519/1664695690.py:91: FutureWarning: The behavior of DataFrame concatenation with empty or all-NA entries is deprecated. In a future version, this will no longer exclude empty or all-NA columns when determining the result dtypes. To retain the old behavior, exclude the relevant entries before the concat operation.\n",
      "  info_df = pd.concat([i,info_df],ignore_index=True)\n"
     ]
    },
    {
     "name": "stdout",
     "output_type": "stream",
     "text": [
      "success:  MRNA\n",
      "success:  PINS\n",
      "success:  ES\n",
      "success:  STX\n",
      "success:  EJPRY\n"
     ]
    },
    {
     "name": "stderr",
     "output_type": "stream",
     "text": [
      "/var/folders/bd/4k3_gjxs037f4v_ts19mcbp00000gn/T/ipykernel_1519/1664695690.py:91: FutureWarning: The behavior of DataFrame concatenation with empty or all-NA entries is deprecated. In a future version, this will no longer exclude empty or all-NA columns when determining the result dtypes. To retain the old behavior, exclude the relevant entries before the concat operation.\n",
      "  info_df = pd.concat([i,info_df],ignore_index=True)\n"
     ]
    },
    {
     "name": "stdout",
     "output_type": "stream",
     "text": [
      "success:  GDDY\n"
     ]
    },
    {
     "name": "stderr",
     "output_type": "stream",
     "text": [
      "/var/folders/bd/4k3_gjxs037f4v_ts19mcbp00000gn/T/ipykernel_1519/1664695690.py:91: FutureWarning: The behavior of DataFrame concatenation with empty or all-NA entries is deprecated. In a future version, this will no longer exclude empty or all-NA columns when determining the result dtypes. To retain the old behavior, exclude the relevant entries before the concat operation.\n",
      "  info_df = pd.concat([i,info_df],ignore_index=True)\n"
     ]
    },
    {
     "name": "stdout",
     "output_type": "stream",
     "text": [
      "success:  WDC\n"
     ]
    },
    {
     "name": "stderr",
     "output_type": "stream",
     "text": [
      "/var/folders/bd/4k3_gjxs037f4v_ts19mcbp00000gn/T/ipykernel_1519/1664695690.py:91: FutureWarning: The behavior of DataFrame concatenation with empty or all-NA entries is deprecated. In a future version, this will no longer exclude empty or all-NA columns when determining the result dtypes. To retain the old behavior, exclude the relevant entries before the concat operation.\n",
      "  info_df = pd.concat([i,info_df],ignore_index=True)\n"
     ]
    },
    {
     "name": "stdout",
     "output_type": "stream",
     "text": [
      "success:  BLDR\n"
     ]
    },
    {
     "name": "stderr",
     "output_type": "stream",
     "text": [
      "/var/folders/bd/4k3_gjxs037f4v_ts19mcbp00000gn/T/ipykernel_1519/1664695690.py:91: FutureWarning: The behavior of DataFrame concatenation with empty or all-NA entries is deprecated. In a future version, this will no longer exclude empty or all-NA columns when determining the result dtypes. To retain the old behavior, exclude the relevant entries before the concat operation.\n",
      "  info_df = pd.concat([i,info_df],ignore_index=True)\n"
     ]
    },
    {
     "name": "stdout",
     "output_type": "stream",
     "text": [
      "success:  CCJ\n"
     ]
    },
    {
     "name": "stderr",
     "output_type": "stream",
     "text": [
      "/var/folders/bd/4k3_gjxs037f4v_ts19mcbp00000gn/T/ipykernel_1519/1664695690.py:91: FutureWarning: The behavior of DataFrame concatenation with empty or all-NA entries is deprecated. In a future version, this will no longer exclude empty or all-NA columns when determining the result dtypes. To retain the old behavior, exclude the relevant entries before the concat operation.\n",
      "  info_df = pd.concat([i,info_df],ignore_index=True)\n"
     ]
    },
    {
     "name": "stdout",
     "output_type": "stream",
     "text": [
      "success:  LDOS\n",
      "success:  TME\n",
      "success:  ILMN\n",
      "success:  STE\n",
      "success:  CJPRY\n"
     ]
    },
    {
     "name": "stderr",
     "output_type": "stream",
     "text": [
      "/var/folders/bd/4k3_gjxs037f4v_ts19mcbp00000gn/T/ipykernel_1519/1664695690.py:91: FutureWarning: The behavior of DataFrame concatenation with empty or all-NA entries is deprecated. In a future version, this will no longer exclude empty or all-NA columns when determining the result dtypes. To retain the old behavior, exclude the relevant entries before the concat operation.\n",
      "  info_df = pd.concat([i,info_df],ignore_index=True)\n"
     ]
    },
    {
     "name": "stdout",
     "output_type": "stream",
     "text": [
      "success:  CVNA\n"
     ]
    },
    {
     "name": "stderr",
     "output_type": "stream",
     "text": [
      "/var/folders/bd/4k3_gjxs037f4v_ts19mcbp00000gn/T/ipykernel_1519/1664695690.py:91: FutureWarning: The behavior of DataFrame concatenation with empty or all-NA entries is deprecated. In a future version, this will no longer exclude empty or all-NA columns when determining the result dtypes. To retain the old behavior, exclude the relevant entries before the concat operation.\n",
      "  info_df = pd.concat([i,info_df],ignore_index=True)\n"
     ]
    },
    {
     "name": "stdout",
     "output_type": "stream",
     "text": [
      "success:  TPL\n"
     ]
    },
    {
     "name": "stderr",
     "output_type": "stream",
     "text": [
      "/var/folders/bd/4k3_gjxs037f4v_ts19mcbp00000gn/T/ipykernel_1519/1664695690.py:91: FutureWarning: The behavior of DataFrame concatenation with empty or all-NA entries is deprecated. In a future version, this will no longer exclude empty or all-NA columns when determining the result dtypes. To retain the old behavior, exclude the relevant entries before the concat operation.\n",
      "  info_df = pd.concat([i,info_df],ignore_index=True)\n"
     ]
    },
    {
     "name": "stdout",
     "output_type": "stream",
     "text": [
      "success:  HOOD\n"
     ]
    },
    {
     "name": "stderr",
     "output_type": "stream",
     "text": [
      "/var/folders/bd/4k3_gjxs037f4v_ts19mcbp00000gn/T/ipykernel_1519/1664695690.py:91: FutureWarning: The behavior of DataFrame concatenation with empty or all-NA entries is deprecated. In a future version, this will no longer exclude empty or all-NA columns when determining the result dtypes. To retain the old behavior, exclude the relevant entries before the concat operation.\n",
      "  info_df = pd.concat([i,info_df],ignore_index=True)\n"
     ]
    },
    {
     "name": "stdout",
     "output_type": "stream",
     "text": [
      "success:  EQT\n"
     ]
    },
    {
     "name": "stderr",
     "output_type": "stream",
     "text": [
      "/var/folders/bd/4k3_gjxs037f4v_ts19mcbp00000gn/T/ipykernel_1519/1664695690.py:91: FutureWarning: The behavior of DataFrame concatenation with empty or all-NA entries is deprecated. In a future version, this will no longer exclude empty or all-NA columns when determining the result dtypes. To retain the old behavior, exclude the relevant entries before the concat operation.\n",
      "  info_df = pd.concat([i,info_df],ignore_index=True)\n"
     ]
    },
    {
     "name": "stdout",
     "output_type": "stream",
     "text": [
      "success:  FTS\n",
      "success:  WRB\n"
     ]
    },
    {
     "name": "stderr",
     "output_type": "stream",
     "text": [
      "SMPNY: Period '5y' is invalid, must be one of ['1d', '5d', '1mo', '3mo', '6mo', 'ytd', 'max']\n"
     ]
    },
    {
     "name": "stdout",
     "output_type": "stream",
     "text": [
      "success:  SMPNY\n",
      "success:  GFS\n"
     ]
    },
    {
     "name": "stderr",
     "output_type": "stream",
     "text": [
      "/var/folders/bd/4k3_gjxs037f4v_ts19mcbp00000gn/T/ipykernel_1519/1664695690.py:91: FutureWarning: The behavior of DataFrame concatenation with empty or all-NA entries is deprecated. In a future version, this will no longer exclude empty or all-NA columns when determining the result dtypes. To retain the old behavior, exclude the relevant entries before the concat operation.\n",
      "  info_df = pd.concat([i,info_df],ignore_index=True)\n"
     ]
    },
    {
     "name": "stdout",
     "output_type": "stream",
     "text": [
      "success:  CBOE\n",
      "success:  LII\n",
      "success:  ZTO\n",
      "success:  CHKP\n"
     ]
    },
    {
     "name": "stderr",
     "output_type": "stream",
     "text": [
      "/var/folders/bd/4k3_gjxs037f4v_ts19mcbp00000gn/T/ipykernel_1519/1664695690.py:91: FutureWarning: The behavior of DataFrame concatenation with empty or all-NA entries is deprecated. In a future version, this will no longer exclude empty or all-NA columns when determining the result dtypes. To retain the old behavior, exclude the relevant entries before the concat operation.\n",
      "  info_df = pd.concat([i,info_df],ignore_index=True)\n"
     ]
    },
    {
     "name": "stdout",
     "output_type": "stream",
     "text": [
      "success:  TPG\n",
      "success:  CSL\n",
      "success:  ATO\n"
     ]
    },
    {
     "name": "stderr",
     "output_type": "stream",
     "text": [
      "/var/folders/bd/4k3_gjxs037f4v_ts19mcbp00000gn/T/ipykernel_1519/1664695690.py:91: FutureWarning: The behavior of DataFrame concatenation with empty or all-NA entries is deprecated. In a future version, this will no longer exclude empty or all-NA columns when determining the result dtypes. To retain the old behavior, exclude the relevant entries before the concat operation.\n",
      "  info_df = pd.concat([i,info_df],ignore_index=True)\n"
     ]
    },
    {
     "name": "stdout",
     "output_type": "stream",
     "text": [
      "success:  HBAN\n",
      "success:  PTC\n",
      "success:  MKC\n"
     ]
    },
    {
     "name": "stderr",
     "output_type": "stream",
     "text": [
      "/var/folders/bd/4k3_gjxs037f4v_ts19mcbp00000gn/T/ipykernel_1519/1664695690.py:91: FutureWarning: The behavior of DataFrame concatenation with empty or all-NA entries is deprecated. In a future version, this will no longer exclude empty or all-NA columns when determining the result dtypes. To retain the old behavior, exclude the relevant entries before the concat operation.\n",
      "  info_df = pd.concat([i,info_df],ignore_index=True)\n"
     ]
    },
    {
     "name": "stdout",
     "output_type": "stream",
     "text": [
      "success:  ASX\n",
      "success:  WAT\n",
      "success:  CUK\n",
      "success:  ZM\n",
      "success:  BBY\n"
     ]
    },
    {
     "name": "stderr",
     "output_type": "stream",
     "text": [
      "/var/folders/bd/4k3_gjxs037f4v_ts19mcbp00000gn/T/ipykernel_1519/1664695690.py:91: FutureWarning: The behavior of DataFrame concatenation with empty or all-NA entries is deprecated. In a future version, this will no longer exclude empty or all-NA columns when determining the result dtypes. To retain the old behavior, exclude the relevant entries before the concat operation.\n",
      "  info_df = pd.concat([i,info_df],ignore_index=True)\n"
     ]
    },
    {
     "name": "stdout",
     "output_type": "stream",
     "text": [
      "success:  PKX\n",
      "success:  TER\n"
     ]
    },
    {
     "name": "stderr",
     "output_type": "stream",
     "text": [
      "/var/folders/bd/4k3_gjxs037f4v_ts19mcbp00000gn/T/ipykernel_1519/1664695690.py:91: FutureWarning: The behavior of DataFrame concatenation with empty or all-NA entries is deprecated. In a future version, this will no longer exclude empty or all-NA columns when determining the result dtypes. To retain the old behavior, exclude the relevant entries before the concat operation.\n",
      "  info_df = pd.concat([i,info_df],ignore_index=True)\n"
     ]
    },
    {
     "name": "stdout",
     "output_type": "stream",
     "text": [
      "success:  RCI\n"
     ]
    },
    {
     "name": "stderr",
     "output_type": "stream",
     "text": [
      "/var/folders/bd/4k3_gjxs037f4v_ts19mcbp00000gn/T/ipykernel_1519/1664695690.py:91: FutureWarning: The behavior of DataFrame concatenation with empty or all-NA entries is deprecated. In a future version, this will no longer exclude empty or all-NA columns when determining the result dtypes. To retain the old behavior, exclude the relevant entries before the concat operation.\n",
      "  info_df = pd.concat([i,info_df],ignore_index=True)\n"
     ]
    },
    {
     "name": "stdout",
     "output_type": "stream",
     "text": [
      "success:  CINF\n",
      "success:  COO\n",
      "success:  CMS\n"
     ]
    },
    {
     "name": "stderr",
     "output_type": "stream",
     "text": [
      "/var/folders/bd/4k3_gjxs037f4v_ts19mcbp00000gn/T/ipykernel_1519/1664695690.py:91: FutureWarning: The behavior of DataFrame concatenation with empty or all-NA entries is deprecated. In a future version, this will no longer exclude empty or all-NA columns when determining the result dtypes. To retain the old behavior, exclude the relevant entries before the concat operation.\n",
      "  info_df = pd.concat([i,info_df],ignore_index=True)\n"
     ]
    },
    {
     "name": "stdout",
     "output_type": "stream",
     "text": [
      "success:  SHG\n",
      "success:  SGSOY\n",
      "success:  RF\n",
      "success:  YAHOY\n",
      "success:  WST\n"
     ]
    },
    {
     "name": "stderr",
     "output_type": "stream",
     "text": [
      "/var/folders/bd/4k3_gjxs037f4v_ts19mcbp00000gn/T/ipykernel_1519/1664695690.py:91: FutureWarning: The behavior of DataFrame concatenation with empty or all-NA entries is deprecated. In a future version, this will no longer exclude empty or all-NA columns when determining the result dtypes. To retain the old behavior, exclude the relevant entries before the concat operation.\n",
      "  info_df = pd.concat([i,info_df],ignore_index=True)\n"
     ]
    },
    {
     "name": "stdout",
     "output_type": "stream",
     "text": [
      "success:  BAH\n",
      "success:  TSN\n",
      "success:  TRU\n",
      "success:  ZBH\n",
      "success:  INVH\n"
     ]
    },
    {
     "name": "stderr",
     "output_type": "stream",
     "text": [
      "/var/folders/bd/4k3_gjxs037f4v_ts19mcbp00000gn/T/ipykernel_1519/1664695690.py:91: FutureWarning: The behavior of DataFrame concatenation with empty or all-NA entries is deprecated. In a future version, this will no longer exclude empty or all-NA columns when determining the result dtypes. To retain the old behavior, exclude the relevant entries before the concat operation.\n",
      "  info_df = pd.concat([i,info_df],ignore_index=True)\n"
     ]
    },
    {
     "name": "stdout",
     "output_type": "stream",
     "text": [
      "success:  TDY\n"
     ]
    },
    {
     "name": "stderr",
     "output_type": "stream",
     "text": [
      "KSPI: Period '5y' is invalid, must be one of ['1d', '5d', '1mo', '3mo', '6mo', '1y', 'ytd', 'max']\n",
      "/var/folders/bd/4k3_gjxs037f4v_ts19mcbp00000gn/T/ipykernel_1519/1664695690.py:91: FutureWarning: The behavior of DataFrame concatenation with empty or all-NA entries is deprecated. In a future version, this will no longer exclude empty or all-NA columns when determining the result dtypes. To retain the old behavior, exclude the relevant entries before the concat operation.\n",
      "  info_df = pd.concat([i,info_df],ignore_index=True)\n"
     ]
    },
    {
     "name": "stdout",
     "output_type": "stream",
     "text": [
      "success:  KSPI\n"
     ]
    },
    {
     "name": "stderr",
     "output_type": "stream",
     "text": [
      "/var/folders/bd/4k3_gjxs037f4v_ts19mcbp00000gn/T/ipykernel_1519/1664695690.py:91: FutureWarning: The behavior of DataFrame concatenation with empty or all-NA entries is deprecated. In a future version, this will no longer exclude empty or all-NA columns when determining the result dtypes. To retain the old behavior, exclude the relevant entries before the concat operation.\n",
      "  info_df = pd.concat([i,info_df],ignore_index=True)\n"
     ]
    },
    {
     "name": "stdout",
     "output_type": "stream",
     "text": [
      "success:  EME\n",
      "success:  SYF\n",
      "success:  UMC\n",
      "success:  MKL\n",
      "success:  WSO\n"
     ]
    },
    {
     "name": "stderr",
     "output_type": "stream",
     "text": [
      "BAM: Period '5y' is invalid, must be one of ['1d', '5d', '1mo', '3mo', '6mo', '1y', '2y', 'ytd', 'max']\n",
      "/var/folders/bd/4k3_gjxs037f4v_ts19mcbp00000gn/T/ipykernel_1519/1664695690.py:91: FutureWarning: The behavior of DataFrame concatenation with empty or all-NA entries is deprecated. In a future version, this will no longer exclude empty or all-NA columns when determining the result dtypes. To retain the old behavior, exclude the relevant entries before the concat operation.\n",
      "  info_df = pd.concat([i,info_df],ignore_index=True)\n"
     ]
    },
    {
     "name": "stdout",
     "output_type": "stream",
     "text": [
      "success:  BAM\n",
      "success:  UAL\n",
      "success:  TEVA\n"
     ]
    },
    {
     "name": "stderr",
     "output_type": "stream",
     "text": [
      "/var/folders/bd/4k3_gjxs037f4v_ts19mcbp00000gn/T/ipykernel_1519/1664695690.py:91: FutureWarning: The behavior of DataFrame concatenation with empty or all-NA entries is deprecated. In a future version, this will no longer exclude empty or all-NA columns when determining the result dtypes. To retain the old behavior, exclude the relevant entries before the concat operation.\n",
      "  info_df = pd.concat([i,info_df],ignore_index=True)\n"
     ]
    },
    {
     "name": "stdout",
     "output_type": "stream",
     "text": [
      "success:  PFG\n"
     ]
    },
    {
     "name": "stderr",
     "output_type": "stream",
     "text": [
      "/var/folders/bd/4k3_gjxs037f4v_ts19mcbp00000gn/T/ipykernel_1519/1664695690.py:91: FutureWarning: The behavior of DataFrame concatenation with empty or all-NA entries is deprecated. In a future version, this will no longer exclude empty or all-NA columns when determining the result dtypes. To retain the old behavior, exclude the relevant entries before the concat operation.\n",
      "  info_df = pd.concat([i,info_df],ignore_index=True)\n"
     ]
    },
    {
     "name": "stdout",
     "output_type": "stream",
     "text": [
      "success:  ARE\n",
      "success:  EXPE\n",
      "success:  CLX\n",
      "success:  OMC\n"
     ]
    },
    {
     "name": "stderr",
     "output_type": "stream",
     "text": [
      "/var/folders/bd/4k3_gjxs037f4v_ts19mcbp00000gn/T/ipykernel_1519/1664695690.py:91: FutureWarning: The behavior of DataFrame concatenation with empty or all-NA entries is deprecated. In a future version, this will no longer exclude empty or all-NA columns when determining the result dtypes. To retain the old behavior, exclude the relevant entries before the concat operation.\n",
      "  info_df = pd.concat([i,info_df],ignore_index=True)\n"
     ]
    },
    {
     "name": "stdout",
     "output_type": "stream",
     "text": [
      "success:  MDB\n"
     ]
    },
    {
     "name": "stderr",
     "output_type": "stream",
     "text": [
      "/var/folders/bd/4k3_gjxs037f4v_ts19mcbp00000gn/T/ipykernel_1519/1664695690.py:91: FutureWarning: The behavior of DataFrame concatenation with empty or all-NA entries is deprecated. In a future version, this will no longer exclude empty or all-NA columns when determining the result dtypes. To retain the old behavior, exclude the relevant entries before the concat operation.\n",
      "  info_df = pd.concat([i,info_df],ignore_index=True)\n"
     ]
    },
    {
     "name": "stdout",
     "output_type": "stream",
     "text": [
      "success:  STLD\n"
     ]
    },
    {
     "name": "stderr",
     "output_type": "stream",
     "text": [
      "/var/folders/bd/4k3_gjxs037f4v_ts19mcbp00000gn/T/ipykernel_1519/1664695690.py:91: FutureWarning: The behavior of DataFrame concatenation with empty or all-NA entries is deprecated. In a future version, this will no longer exclude empty or all-NA columns when determining the result dtypes. To retain the old behavior, exclude the relevant entries before the concat operation.\n",
      "  info_df = pd.concat([i,info_df],ignore_index=True)\n"
     ]
    },
    {
     "name": "stdout",
     "output_type": "stream",
     "text": [
      "success:  EXE\n",
      "success:  BALL\n"
     ]
    },
    {
     "name": "stderr",
     "output_type": "stream",
     "text": [
      "/var/folders/bd/4k3_gjxs037f4v_ts19mcbp00000gn/T/ipykernel_1519/1664695690.py:91: FutureWarning: The behavior of DataFrame concatenation with empty or all-NA entries is deprecated. In a future version, this will no longer exclude empty or all-NA columns when determining the result dtypes. To retain the old behavior, exclude the relevant entries before the concat operation.\n",
      "  info_df = pd.concat([i,info_df],ignore_index=True)\n"
     ]
    },
    {
     "name": "stdout",
     "output_type": "stream",
     "text": [
      "success:  NRG\n"
     ]
    },
    {
     "name": "stderr",
     "output_type": "stream",
     "text": [
      "LINE: Period '5y' is invalid, must be one of ['1d', '5d', '1mo', '3mo', '6mo', 'ytd', 'max']\n",
      "/var/folders/bd/4k3_gjxs037f4v_ts19mcbp00000gn/T/ipykernel_1519/1664695690.py:91: FutureWarning: The behavior of DataFrame concatenation with empty or all-NA entries is deprecated. In a future version, this will no longer exclude empty or all-NA columns when determining the result dtypes. To retain the old behavior, exclude the relevant entries before the concat operation.\n",
      "  info_df = pd.concat([i,info_df],ignore_index=True)\n"
     ]
    },
    {
     "name": "stdout",
     "output_type": "stream",
     "text": [
      "success:  LINE\n"
     ]
    },
    {
     "name": "stderr",
     "output_type": "stream",
     "text": [
      "/var/folders/bd/4k3_gjxs037f4v_ts19mcbp00000gn/T/ipykernel_1519/1664695690.py:91: FutureWarning: The behavior of DataFrame concatenation with empty or all-NA entries is deprecated. In a future version, this will no longer exclude empty or all-NA columns when determining the result dtypes. To retain the old behavior, exclude the relevant entries before the concat operation.\n",
      "  info_df = pd.concat([i,info_df],ignore_index=True)\n"
     ]
    },
    {
     "name": "stdout",
     "output_type": "stream",
     "text": [
      "success:  MT\n",
      "success:  PKG\n",
      "success:  CNP\n",
      "success:  HDELY\n"
     ]
    },
    {
     "name": "stderr",
     "output_type": "stream",
     "text": [
      "/var/folders/bd/4k3_gjxs037f4v_ts19mcbp00000gn/T/ipykernel_1519/1664695690.py:91: FutureWarning: The behavior of DataFrame concatenation with empty or all-NA entries is deprecated. In a future version, this will no longer exclude empty or all-NA columns when determining the result dtypes. To retain the old behavior, exclude the relevant entries before the concat operation.\n",
      "  info_df = pd.concat([i,info_df],ignore_index=True)\n"
     ]
    },
    {
     "name": "stdout",
     "output_type": "stream",
     "text": [
      "success:  RYAN\n",
      "success:  KOF\n",
      "success:  ESS\n"
     ]
    },
    {
     "name": "stderr",
     "output_type": "stream",
     "text": [
      "/var/folders/bd/4k3_gjxs037f4v_ts19mcbp00000gn/T/ipykernel_1519/1664695690.py:91: FutureWarning: The behavior of DataFrame concatenation with empty or all-NA entries is deprecated. In a future version, this will no longer exclude empty or all-NA columns when determining the result dtypes. To retain the old behavior, exclude the relevant entries before the concat operation.\n",
      "  info_df = pd.concat([i,info_df],ignore_index=True)\n"
     ]
    },
    {
     "name": "stdout",
     "output_type": "stream",
     "text": [
      "success:  MOH\n",
      "success:  ZBRA\n"
     ]
    },
    {
     "name": "stderr",
     "output_type": "stream",
     "text": [
      "/var/folders/bd/4k3_gjxs037f4v_ts19mcbp00000gn/T/ipykernel_1519/1664695690.py:91: FutureWarning: The behavior of DataFrame concatenation with empty or all-NA entries is deprecated. In a future version, this will no longer exclude empty or all-NA columns when determining the result dtypes. To retain the old behavior, exclude the relevant entries before the concat operation.\n",
      "  info_df = pd.concat([i,info_df],ignore_index=True)\n"
     ]
    },
    {
     "name": "stdout",
     "output_type": "stream",
     "text": [
      "success:  DKNG\n"
     ]
    },
    {
     "name": "stderr",
     "output_type": "stream",
     "text": [
      "/var/folders/bd/4k3_gjxs037f4v_ts19mcbp00000gn/T/ipykernel_1519/1664695690.py:91: FutureWarning: The behavior of DataFrame concatenation with empty or all-NA entries is deprecated. In a future version, this will no longer exclude empty or all-NA columns when determining the result dtypes. To retain the old behavior, exclude the relevant entries before the concat operation.\n",
      "  info_df = pd.concat([i,info_df],ignore_index=True)\n"
     ]
    },
    {
     "name": "stdout",
     "output_type": "stream",
     "text": [
      "success:  BAX\n",
      "success:  WSM\n",
      "success:  TLK\n",
      "success:  DRI\n"
     ]
    },
    {
     "name": "stderr",
     "output_type": "stream",
     "text": [
      "/var/folders/bd/4k3_gjxs037f4v_ts19mcbp00000gn/T/ipykernel_1519/1664695690.py:91: FutureWarning: The behavior of DataFrame concatenation with empty or all-NA entries is deprecated. In a future version, this will no longer exclude empty or all-NA columns when determining the result dtypes. To retain the old behavior, exclude the relevant entries before the concat operation.\n",
      "  info_df = pd.concat([i,info_df],ignore_index=True)\n"
     ]
    },
    {
     "name": "stdout",
     "output_type": "stream",
     "text": [
      "success:  WBD\n",
      "success:  HOLX\n",
      "success:  GPC\n",
      "success:  LUV\n"
     ]
    },
    {
     "name": "stderr",
     "output_type": "stream",
     "text": [
      "/var/folders/bd/4k3_gjxs037f4v_ts19mcbp00000gn/T/ipykernel_1519/1664695690.py:91: FutureWarning: The behavior of DataFrame concatenation with empty or all-NA entries is deprecated. In a future version, this will no longer exclude empty or all-NA columns when determining the result dtypes. To retain the old behavior, exclude the relevant entries before the concat operation.\n",
      "  info_df = pd.concat([i,info_df],ignore_index=True)\n"
     ]
    },
    {
     "name": "stdout",
     "output_type": "stream",
     "text": [
      "success:  CFG\n",
      "success:  FOXA\n",
      "success:  DG\n"
     ]
    },
    {
     "name": "stderr",
     "output_type": "stream",
     "text": [
      "/var/folders/bd/4k3_gjxs037f4v_ts19mcbp00000gn/T/ipykernel_1519/1664695690.py:91: FutureWarning: The behavior of DataFrame concatenation with empty or all-NA entries is deprecated. In a future version, this will no longer exclude empty or all-NA columns when determining the result dtypes. To retain the old behavior, exclude the relevant entries before the concat operation.\n",
      "  info_df = pd.concat([i,info_df],ignore_index=True)\n"
     ]
    },
    {
     "name": "stdout",
     "output_type": "stream",
     "text": [
      "success:  AER\n"
     ]
    },
    {
     "name": "stderr",
     "output_type": "stream",
     "text": [
      "/var/folders/bd/4k3_gjxs037f4v_ts19mcbp00000gn/T/ipykernel_1519/1664695690.py:91: FutureWarning: The behavior of DataFrame concatenation with empty or all-NA entries is deprecated. In a future version, this will no longer exclude empty or all-NA columns when determining the result dtypes. To retain the old behavior, exclude the relevant entries before the concat operation.\n",
      "  info_df = pd.concat([i,info_df],ignore_index=True)\n"
     ]
    },
    {
     "name": "stdout",
     "output_type": "stream",
     "text": [
      "success:  MAA\n",
      "success:  NTRS\n"
     ]
    },
    {
     "name": "stderr",
     "output_type": "stream",
     "text": [
      "/var/folders/bd/4k3_gjxs037f4v_ts19mcbp00000gn/T/ipykernel_1519/1664695690.py:91: FutureWarning: The behavior of DataFrame concatenation with empty or all-NA entries is deprecated. In a future version, this will no longer exclude empty or all-NA columns when determining the result dtypes. To retain the old behavior, exclude the relevant entries before the concat operation.\n",
      "  info_df = pd.concat([i,info_df],ignore_index=True)\n"
     ]
    },
    {
     "name": "stdout",
     "output_type": "stream",
     "text": [
      "success:  WLK\n",
      "success:  SNAP\n",
      "success:  MAS\n",
      "success:  YUMC\n",
      "success:  SSNC\n"
     ]
    },
    {
     "name": "stderr",
     "output_type": "stream",
     "text": [
      "/var/folders/bd/4k3_gjxs037f4v_ts19mcbp00000gn/T/ipykernel_1519/1664695690.py:91: FutureWarning: The behavior of DataFrame concatenation with empty or all-NA entries is deprecated. In a future version, this will no longer exclude empty or all-NA columns when determining the result dtypes. To retain the old behavior, exclude the relevant entries before the concat operation.\n",
      "  info_df = pd.concat([i,info_df],ignore_index=True)\n"
     ]
    },
    {
     "name": "stdout",
     "output_type": "stream",
     "text": [
      "success:  CTRA\n",
      "success:  VRSN\n",
      "success:  EDPFY\n",
      "success:  LH\n"
     ]
    },
    {
     "name": "stderr",
     "output_type": "stream",
     "text": [
      "/var/folders/bd/4k3_gjxs037f4v_ts19mcbp00000gn/T/ipykernel_1519/1664695690.py:91: FutureWarning: The behavior of DataFrame concatenation with empty or all-NA entries is deprecated. In a future version, this will no longer exclude empty or all-NA columns when determining the result dtypes. To retain the old behavior, exclude the relevant entries before the concat operation.\n",
      "  info_df = pd.concat([i,info_df],ignore_index=True)\n"
     ]
    },
    {
     "name": "stdout",
     "output_type": "stream",
     "text": [
      "success:  EC\n",
      "success:  LPLA\n"
     ]
    },
    {
     "name": "stderr",
     "output_type": "stream",
     "text": [
      "/var/folders/bd/4k3_gjxs037f4v_ts19mcbp00000gn/T/ipykernel_1519/1664695690.py:91: FutureWarning: The behavior of DataFrame concatenation with empty or all-NA entries is deprecated. In a future version, this will no longer exclude empty or all-NA columns when determining the result dtypes. To retain the old behavior, exclude the relevant entries before the concat operation.\n",
      "  info_df = pd.concat([i,info_df],ignore_index=True)\n"
     ]
    },
    {
     "name": "stdout",
     "output_type": "stream",
     "text": [
      "success:  TS\n",
      "success:  IHG\n"
     ]
    },
    {
     "name": "stderr",
     "output_type": "stream",
     "text": [
      "/var/folders/bd/4k3_gjxs037f4v_ts19mcbp00000gn/T/ipykernel_1519/1664695690.py:91: FutureWarning: The behavior of DataFrame concatenation with empty or all-NA entries is deprecated. In a future version, this will no longer exclude empty or all-NA columns when determining the result dtypes. To retain the old behavior, exclude the relevant entries before the concat operation.\n",
      "  info_df = pd.concat([i,info_df],ignore_index=True)\n"
     ]
    },
    {
     "name": "stdout",
     "output_type": "stream",
     "text": [
      "success:  CRBG\n",
      "success:  ALGN\n"
     ]
    },
    {
     "name": "stderr",
     "output_type": "stream",
     "text": [
      "/var/folders/bd/4k3_gjxs037f4v_ts19mcbp00000gn/T/ipykernel_1519/1664695690.py:91: FutureWarning: The behavior of DataFrame concatenation with empty or all-NA entries is deprecated. In a future version, this will no longer exclude empty or all-NA columns when determining the result dtypes. To retain the old behavior, exclude the relevant entries before the concat operation.\n",
      "  info_df = pd.concat([i,info_df],ignore_index=True)\n"
     ]
    },
    {
     "name": "stdout",
     "output_type": "stream",
     "text": [
      "success:  MANH\n",
      "success:  ULTA\n",
      "success:  FDS\n",
      "success:  AVY\n",
      "success:  EXPD\n"
     ]
    },
    {
     "name": "stderr",
     "output_type": "stream",
     "text": [
      "/var/folders/bd/4k3_gjxs037f4v_ts19mcbp00000gn/T/ipykernel_1519/1664695690.py:91: FutureWarning: The behavior of DataFrame concatenation with empty or all-NA entries is deprecated. In a future version, this will no longer exclude empty or all-NA columns when determining the result dtypes. To retain the old behavior, exclude the relevant entries before the concat operation.\n",
      "  info_df = pd.concat([i,info_df],ignore_index=True)\n"
     ]
    },
    {
     "name": "stdout",
     "output_type": "stream",
     "text": [
      "success:  ONON\n"
     ]
    },
    {
     "name": "stderr",
     "output_type": "stream",
     "text": [
      "/var/folders/bd/4k3_gjxs037f4v_ts19mcbp00000gn/T/ipykernel_1519/1664695690.py:91: FutureWarning: The behavior of DataFrame concatenation with empty or all-NA entries is deprecated. In a future version, this will no longer exclude empty or all-NA columns when determining the result dtypes. To retain the old behavior, exclude the relevant entries before the concat operation.\n",
      "  info_df = pd.concat([i,info_df],ignore_index=True)\n"
     ]
    },
    {
     "name": "stdout",
     "output_type": "stream",
     "text": [
      "success:  AVTR\n"
     ]
    },
    {
     "name": "stderr",
     "output_type": "stream",
     "text": [
      "/var/folders/bd/4k3_gjxs037f4v_ts19mcbp00000gn/T/ipykernel_1519/1664695690.py:91: FutureWarning: The behavior of DataFrame concatenation with empty or all-NA entries is deprecated. In a future version, this will no longer exclude empty or all-NA columns when determining the result dtypes. To retain the old behavior, exclude the relevant entries before the concat operation.\n",
      "  info_df = pd.concat([i,info_df],ignore_index=True)\n"
     ]
    },
    {
     "name": "stdout",
     "output_type": "stream",
     "text": [
      "success:  BURL\n",
      "success:  J\n",
      "success:  PSTG\n",
      "success:  HRL\n"
     ]
    },
    {
     "name": "stderr",
     "output_type": "stream",
     "text": [
      "/var/folders/bd/4k3_gjxs037f4v_ts19mcbp00000gn/T/ipykernel_1519/1664695690.py:91: FutureWarning: The behavior of DataFrame concatenation with empty or all-NA entries is deprecated. In a future version, this will no longer exclude empty or all-NA columns when determining the result dtypes. To retain the old behavior, exclude the relevant entries before the concat operation.\n",
      "  info_df = pd.concat([i,info_df],ignore_index=True)\n"
     ]
    },
    {
     "name": "stdout",
     "output_type": "stream",
     "text": [
      "success:  L\n",
      "success:  JBHT\n",
      "success:  GEN\n",
      "success:  DKS\n",
      "success:  CG\n",
      "success:  RPM\n"
     ]
    },
    {
     "name": "stderr",
     "output_type": "stream",
     "text": [
      "/var/folders/bd/4k3_gjxs037f4v_ts19mcbp00000gn/T/ipykernel_1519/1664695690.py:91: FutureWarning: The behavior of DataFrame concatenation with empty or all-NA entries is deprecated. In a future version, this will no longer exclude empty or all-NA columns when determining the result dtypes. To retain the old behavior, exclude the relevant entries before the concat operation.\n",
      "  info_df = pd.concat([i,info_df],ignore_index=True)\n"
     ]
    },
    {
     "name": "stdout",
     "output_type": "stream",
     "text": [
      "success:  ENTG\n"
     ]
    },
    {
     "name": "stderr",
     "output_type": "stream",
     "text": [
      "/var/folders/bd/4k3_gjxs037f4v_ts19mcbp00000gn/T/ipykernel_1519/1664695690.py:91: FutureWarning: The behavior of DataFrame concatenation with empty or all-NA entries is deprecated. In a future version, this will no longer exclude empty or all-NA columns when determining the result dtypes. To retain the old behavior, exclude the relevant entries before the concat operation.\n",
      "  info_df = pd.concat([i,info_df],ignore_index=True)\n"
     ]
    },
    {
     "name": "stdout",
     "output_type": "stream",
     "text": [
      "success:  NTRA\n",
      "success:  IP\n",
      "success:  DGX\n"
     ]
    },
    {
     "name": "stderr",
     "output_type": "stream",
     "text": [
      "/var/folders/bd/4k3_gjxs037f4v_ts19mcbp00000gn/T/ipykernel_1519/1664695690.py:91: FutureWarning: The behavior of DataFrame concatenation with empty or all-NA entries is deprecated. In a future version, this will no longer exclude empty or all-NA columns when determining the result dtypes. To retain the old behavior, exclude the relevant entries before the concat operation.\n",
      "  info_df = pd.concat([i,info_df],ignore_index=True)\n"
     ]
    },
    {
     "name": "stdout",
     "output_type": "stream",
     "text": [
      "success:  TOST\n"
     ]
    },
    {
     "name": "stderr",
     "output_type": "stream",
     "text": [
      "/var/folders/bd/4k3_gjxs037f4v_ts19mcbp00000gn/T/ipykernel_1519/1664695690.py:91: FutureWarning: The behavior of DataFrame concatenation with empty or all-NA entries is deprecated. In a future version, this will no longer exclude empty or all-NA columns when determining the result dtypes. To retain the old behavior, exclude the relevant entries before the concat operation.\n",
      "  info_df = pd.concat([i,info_df],ignore_index=True)\n"
     ]
    },
    {
     "name": "stdout",
     "output_type": "stream",
     "text": [
      "success:  UDR\n"
     ]
    },
    {
     "name": "stderr",
     "output_type": "stream",
     "text": [
      "/var/folders/bd/4k3_gjxs037f4v_ts19mcbp00000gn/T/ipykernel_1519/1664695690.py:91: FutureWarning: The behavior of DataFrame concatenation with empty or all-NA entries is deprecated. In a future version, this will no longer exclude empty or all-NA columns when determining the result dtypes. To retain the old behavior, exclude the relevant entries before the concat operation.\n",
      "  info_df = pd.concat([i,info_df],ignore_index=True)\n"
     ]
    },
    {
     "name": "stdout",
     "output_type": "stream",
     "text": [
      "success:  SWK\n"
     ]
    },
    {
     "name": "stderr",
     "output_type": "stream",
     "text": [
      "/var/folders/bd/4k3_gjxs037f4v_ts19mcbp00000gn/T/ipykernel_1519/1664695690.py:91: FutureWarning: The behavior of DataFrame concatenation with empty or all-NA entries is deprecated. In a future version, this will no longer exclude empty or all-NA columns when determining the result dtypes. To retain the old behavior, exclude the relevant entries before the concat operation.\n",
      "  info_df = pd.concat([i,info_df],ignore_index=True)\n"
     ]
    },
    {
     "name": "stdout",
     "output_type": "stream",
     "text": [
      "success:  FNF\n",
      "success:  RPRX\n"
     ]
    },
    {
     "name": "stderr",
     "output_type": "stream",
     "text": [
      "Could not get exchangeTimezoneName for ticker 'VIV' reason: 'chart'\n",
      "$VIV: possibly delisted; no price data found  (period=5y)\n"
     ]
    },
    {
     "name": "stdout",
     "output_type": "stream",
     "text": [
      "success:  VIV\n",
      "success:  NTNX\n",
      "success:  APTV\n"
     ]
    },
    {
     "name": "stderr",
     "output_type": "stream",
     "text": [
      "/var/folders/bd/4k3_gjxs037f4v_ts19mcbp00000gn/T/ipykernel_1519/1664695690.py:91: FutureWarning: The behavior of DataFrame concatenation with empty or all-NA entries is deprecated. In a future version, this will no longer exclude empty or all-NA columns when determining the result dtypes. To retain the old behavior, exclude the relevant entries before the concat operation.\n",
      "  info_df = pd.concat([i,info_df],ignore_index=True)\n"
     ]
    },
    {
     "name": "stdout",
     "output_type": "stream",
     "text": [
      "success:  EG\n"
     ]
    },
    {
     "name": "stderr",
     "output_type": "stream",
     "text": [
      "/var/folders/bd/4k3_gjxs037f4v_ts19mcbp00000gn/T/ipykernel_1519/1664695690.py:91: FutureWarning: The behavior of DataFrame concatenation with empty or all-NA entries is deprecated. In a future version, this will no longer exclude empty or all-NA columns when determining the result dtypes. To retain the old behavior, exclude the relevant entries before the concat operation.\n",
      "  info_df = pd.concat([i,info_df],ignore_index=True)\n"
     ]
    },
    {
     "name": "stdout",
     "output_type": "stream",
     "text": [
      "success:  WLMIY\n",
      "success:  SUI\n",
      "success:  AMCR\n"
     ]
    }
   ],
   "source": [
    "import yfinance as yf\n",
    "import pandas as pd\n",
    "import numpy as np\n",
    "import datetime\n",
    "\n",
    "def get_quarter_year(date):\n",
    "    q = (date.month - 1) // 3 + 1\n",
    "    y = date.year\n",
    "    return str(y) + \"Q\" + str(q)\n",
    "    \n",
    "# Load the list of tickers from a CSV file (assuming you have downloaded it)\n",
    "#tickers = pd.read_csv('company_tickers_subset.csv', header=None, names=['Ticker'])\n",
    "tickers = pd.read_csv('company_tickers_subset.csv')\n",
    "\n",
    "def get_fundamental_data(ticker):\n",
    "    try:\n",
    "        company = yf.Ticker(ticker)\n",
    "        info = company.info\n",
    "        info = pd.DataFrame(info)\n",
    "        info[\"ticker\"] = ticker\n",
    "\n",
    "        historical_data = company.history(period=\"5y\")\n",
    "        historical_data = pd.DataFrame(historical_data)\n",
    "        historical_data[\"ticker\"] = ticker\n",
    "        historical_data.reset_index(inplace=True, drop=False)\n",
    "        historical_data = historical_data.T[~historical_data.T.index.duplicated(keep='first')].T\n",
    "        \n",
    "        financials = company.financials\n",
    "        financials = pd.DataFrame(financials)\n",
    "        financials.columns = [get_quarter_year(x) for x in financials.columns]\n",
    "        financials[\"ticker\"] = ticker\n",
    "        financials.reset_index(inplace=True, drop=False)\n",
    "        financials = financials.T[~financials.T.index.duplicated(keep='first')].T\n",
    "        \n",
    "        #balance_sheet = company.balance_sheet\n",
    "        balance_sheet = company.quarterly_balance_sheet\n",
    "        balance_sheet = pd.DataFrame(balance_sheet)\n",
    "        balance_sheet.columns = [get_quarter_year(x) for x in balance_sheet.columns]\n",
    "        balance_sheet[\"ticker\"] = ticker\n",
    "        balance_sheet.reset_index(inplace=True, drop=False)\n",
    "        balance_sheet = balance_sheet.T[~balance_sheet.T.index.duplicated(keep='first')].T\n",
    "        \n",
    "        #cash_flow = company.cashflow\n",
    "        cash_flow = company.quarterly_cashflow\n",
    "        cash_flow = pd.DataFrame(cash_flow)\n",
    "        cash_flow.columns = [get_quarter_year(x) for x in cash_flow.columns]\n",
    "        cash_flow[\"ticker\"] = ticker\n",
    "        cash_flow.reset_index(inplace=True, drop=False)\n",
    "        cash_flow = cash_flow.T[~cash_flow.T.index.duplicated(keep='first')].T\n",
    "\n",
    "        #cash_flow = company.cashflow\n",
    "        is_flow = company.quarterly_income_stmt\n",
    "        is_flow = pd.DataFrame(is_flow)\n",
    "        is_flow.columns = [get_quarter_year(x) for x in is_flow.columns]\n",
    "        is_flow[\"ticker\"] = ticker\n",
    "        is_flow.reset_index(inplace=True, drop=False)\n",
    "        is_flow = is_flow.T[~is_flow.T.index.duplicated(keep='first')].T\n",
    "\n",
    "        # Print or save the data as needed\n",
    "        \"\"\"\n",
    "        print(f\"Ticker: {ticker}\")\n",
    "        print(\"Info:\")\n",
    "        print(info)\n",
    "        print(\"\\nFinancials:\")\n",
    "        print(financials)\n",
    "        print(\"\\nBalance Sheet:\")\n",
    "        print(balance_sheet)\n",
    "        print(\"\\nCash Flow:\")\n",
    "        print(cash_flow)\n",
    "        print(\"\\n\")\n",
    "        \"\"\"\n",
    "        return historical_data, info, financials, balance_sheet, cash_flow, is_flow\n",
    "\n",
    "    except Exception as e:\n",
    "        print(f\"Error fetching data for {ticker}: {e}\")\n",
    "        e = pd.DataFrame()\n",
    "        return e,e,e,e,e,e\n",
    "\n",
    "def main():\n",
    "    info_df = pd.DataFrame()\n",
    "    hs_df = pd.DataFrame()\n",
    "    financials_df = pd.DataFrame()\n",
    "    balance_sheet_df = pd.DataFrame()\n",
    "    cash_flow_df = pd.DataFrame()\n",
    "    is_flow_df = pd.DataFrame()\n",
    "    hs_df,info_df,financials_df,balance_sheet_df,cash_flow_df,is_flow_df = get_fundamental_data(\"KR\")\n",
    "    for ticker in tickers['Ticker']:    \n",
    "        hs,i,f,b,c,is_f = get_fundamental_data(ticker)\n",
    "        \n",
    "        hs_df = pd.concat([hs,hs_df],ignore_index=True)\n",
    "        info_df = pd.concat([i,info_df],ignore_index=True)\n",
    "        financials_df = pd.concat([f,financials_df],ignore_index=True)\n",
    "        balance_sheet_df = pd.concat([b,balance_sheet_df],ignore_index=True)\n",
    "        cash_flow_df = pd.concat([c,cash_flow_df],ignore_index=True)\n",
    "        is_flow_df = pd.concat([is_f,is_flow_df])\n",
    "\n",
    "        print(\"success: \",ticker)\n",
    "        \n",
    "        # Add a delay to avoid rate limiting\n",
    "        time.sleep(1)\n",
    "\n",
    "    info_df.to_csv(\"company_info_2.csv\")\n",
    "    financials_df.to_csv(\"Q_financials_info_2.csv\")\n",
    "    balance_sheet_df.to_csv(\"Q_bs_info_2.csv\")\n",
    "    cash_flow_df.to_csv(\"Q_cash_flow_info_2.csv\")\n",
    "    #is_flow_df.to_csv(\"Q_is_info.csv\")\n",
    "    hs_df.to_csv(\"price_history_2.csv\")\n",
    "\n",
    "if __name__ == \"__main__\":\n",
    "    import time\n",
    "    main()"
   ]
  },
  {
   "cell_type": "code",
   "execution_count": null,
   "id": "12e5d082-e1c8-4b65-b1e0-d30c21980a05",
   "metadata": {},
   "outputs": [],
   "source": [
    "info_df = pd.DataFrame()\n",
    "hs_df = pd.DataFrame()\n",
    "financials_df = pd.DataFrame()\n",
    "balance_sheet_df = pd.DataFrame()\n",
    "cash_flow_df = pd.DataFrame()\n",
    "is_flow_df = pd.DataFrame()\n",
    "hs,i,f,b,c,is_f = get_fundamental_data(\"AAPL\")\n",
    "\n",
    "hs_df = pd.concat([hs_df,hs],ignore_index=True)\n",
    "info_df = pd.concat([info_df,i],ignore_index=True)\n",
    "financials_df = pd.concat([financials_df,f],ignore_index=True)\n",
    "balance_sheet_df = pd.concat([balance_sheet_df,b],ignore_index=True)\n",
    "cash_flow_df = pd.concat([cash_flow_df,c],ignore_index=True)\n"
   ]
  },
  {
   "cell_type": "code",
   "execution_count": null,
   "id": "1e7444d8-e20c-4032-85c2-c947335726ba",
   "metadata": {},
   "outputs": [],
   "source": [
    "hs,i,f,b,c,is_f = get_fundamental_data(\"KR\")\n",
    "\n",
    "hs_df = pd.concat([hs_df,hs],ignore_index=True)\n",
    "info_df = pd.concat([info_df,i],ignore_index=True)\n",
    "financials_df = pd.concat([financials_df,f],ignore_index=True)\n",
    "balance_sheet_df = pd.concat([balance_sheet_df,b],ignore_index=True)\n",
    "#cash_flow_df = pd.concat([cash_flow_df,c],ignore_index=True)"
   ]
  },
  {
   "cell_type": "code",
   "execution_count": null,
   "id": "ce491ff3-3006-47ad-a5da-06611febfd82",
   "metadata": {},
   "outputs": [],
   "source": [
    "b.index = np.array(b.index) + 1*90"
   ]
  },
  {
   "cell_type": "code",
   "execution_count": null,
   "id": "d6e85a1c-ff72-4117-8a57-0a7e2354cc30",
   "metadata": {},
   "outputs": [],
   "source": [
    "np.array(b.index) + 1*90"
   ]
  },
  {
   "cell_type": "code",
   "execution_count": null,
   "id": "c02c0a4a-487e-4f07-bb7c-425e36408ada",
   "metadata": {},
   "outputs": [],
   "source": [
    "b"
   ]
  },
  {
   "cell_type": "code",
   "execution_count": null,
   "id": "157fc17b-2ab1-4705-8dfe-393f1df63829",
   "metadata": {},
   "outputs": [],
   "source": []
  }
 ],
 "metadata": {
  "kernelspec": {
   "display_name": "Python 3 (ipykernel)",
   "language": "python",
   "name": "python3"
  },
  "language_info": {
   "codemirror_mode": {
    "name": "ipython",
    "version": 3
   },
   "file_extension": ".py",
   "mimetype": "text/x-python",
   "name": "python",
   "nbconvert_exporter": "python",
   "pygments_lexer": "ipython3",
   "version": "3.12.4"
  }
 },
 "nbformat": 4,
 "nbformat_minor": 5
}
